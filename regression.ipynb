{
 "cells": [
  {
   "cell_type": "code",
   "execution_count": 843,
   "id": "88d58dff",
   "metadata": {},
   "outputs": [],
   "source": [
    "import numpy as np\n",
    "import pandas as pd\n",
    "from sklearn.linear_model import LinearRegression, Ridge\n",
    "from sklearn.preprocessing import StandardScaler, PolynomialFeatures\n",
    "from sklearn.metrics import mean_squared_error, r2_score\n",
    "from sklearn.model_selection import train_test_split, RandomizedSearchCV\n",
    "import matplotlib.pyplot as plt\n",
    "from sklearn.pipeline import Pipeline\n",
    "from xgboost import XGBRegressor\n",
    "import matplotlib.pyplot as plt"
   ]
  },
  {
   "cell_type": "code",
   "execution_count": 844,
   "id": "68a42250",
   "metadata": {},
   "outputs": [],
   "source": [
    "homes = pd.read_csv(\"mlssales23-08-29.csv\")\n",
    "homes = homes.drop(columns=['Unnamed: 0', 'index'])"
   ]
  },
  {
   "cell_type": "markdown",
   "id": "6cec8176",
   "metadata": {},
   "source": [
    "Create training data arrays and split into training, cross-validation, and test sets."
   ]
  },
  {
   "cell_type": "code",
   "execution_count": 845,
   "id": "2e63e4ca",
   "metadata": {},
   "outputs": [],
   "source": [
    "X_train = np.c_[homes['Beds'], homes['Baths'], homes['Square_Feet'], homes['Year_Built'], \n",
    "                homes['Garages'], homes['Lot_SqFt']]\n",
    "y_train = np.array(homes['Price'])"
   ]
  },
  {
   "cell_type": "code",
   "execution_count": 846,
   "id": "d396cc82",
   "metadata": {},
   "outputs": [],
   "source": [
    "x_training, x_, y_training, y_ = train_test_split(X_train, y_train, test_size=0.4, random_state=1)\n",
    "x_cv, x_test, y_cv, y_test = train_test_split(x_, y_, test_size = 0.5, random_state=1)\n",
    "del x_, y_"
   ]
  },
  {
   "cell_type": "markdown",
   "id": "8c53aa10",
   "metadata": {},
   "source": [
    "Try a linear regression model and test its accuracy."
   ]
  },
  {
   "cell_type": "code",
   "execution_count": 847,
   "id": "2490bb92",
   "metadata": {},
   "outputs": [],
   "source": [
    "steps_linear = [\n",
    "    ('scaler', StandardScaler()),\n",
    "     ('lin_reg', LinearRegression())\n",
    "]\n",
    "pipe_linear = Pipeline(steps_linear)\n",
    "model_linear = pipe_linear.fit(x_training, y_training)\n",
    "yhat_linear = model_linear.predict(x_training)"
   ]
  },
  {
   "cell_type": "code",
   "execution_count": 848,
   "id": "3c1e1550",
   "metadata": {
    "scrolled": true
   },
   "outputs": [
    {
     "name": "stdout",
     "output_type": "stream",
     "text": [
      "rmse training: 133848.00247688568,\n",
      "r2 training: 0.7786326594948263\n",
      "rmse test: 146946.71596452975,\n",
      "r2 test: 0.7682085117433861\n",
      "rmse cv: 147146.05333401254,\n",
      "r2 cv: 0.7638473293796797\n"
     ]
    }
   ],
   "source": [
    "print(f\"rmse training: {np.sqrt(mean_squared_error(y_training, yhat_linear))},\\\n",
    "\\nr2 training: {r2_score(y_training, yhat_linear)}\")\n",
    "print(f\"rmse test: {np.sqrt(mean_squared_error(y_test, model_linear.predict(x_test)))},\\\n",
    "\\nr2 test: {r2_score(y_test, model_linear.predict(x_test))}\")\n",
    "print(f\"rmse cv: {np.sqrt(mean_squared_error(y_cv, model_linear.predict(x_cv)))},\\\n",
    "\\nr2 cv: {r2_score(y_cv, model_linear.predict(x_cv))}\")"
   ]
  },
  {
   "cell_type": "markdown",
   "id": "079429b4",
   "metadata": {},
   "source": [
    "A good start, but not super accurate."
   ]
  },
  {
   "cell_type": "markdown",
   "id": "5cdb22ae",
   "metadata": {},
   "source": [
    "Try polynomial regression to capture nonlinear relationships between the data. Calculate the value of alpha with the lowest CV error for an L2 regularized polynomial regression model."
   ]
  },
  {
   "cell_type": "code",
   "execution_count": 877,
   "id": "60d760df",
   "metadata": {},
   "outputs": [],
   "source": [
    "train_mses_ridge = []\n",
    "cv_mses_ridge = []\n",
    "for a in np.arange(0, 50, 0.1):   \n",
    "    steps = [('scaler', StandardScaler()),\n",
    "            ('poly', PolynomialFeatures(3, include_bias=False)),\n",
    "            ('model', Ridge(alpha=a))]\n",
    "    pipe = Pipeline(steps)\n",
    "    model_ridge = pipe.fit(x_training, y_training)\n",
    "    yhat = model_ridge.predict(x_training)\n",
    "    train_mses_ridge.append(mean_squared_error(yhat, y_training))\n",
    "    yhat = model_ridge.predict(x_cv)\n",
    "    cv_mses_ridge.append(mean_squared_error(yhat, y_cv))"
   ]
  },
  {
   "cell_type": "code",
   "execution_count": 878,
   "id": "97df6ff2",
   "metadata": {},
   "outputs": [
    {
     "data": {
      "text/plain": [
       "<matplotlib.legend.Legend at 0x7f9b4a85fac0>"
      ]
     },
     "execution_count": 878,
     "metadata": {},
     "output_type": "execute_result"
    },
    {
     "data": {
      "image/png": "[encoded data removed]",
      "text/plain": [
       "<Figure size 640x480 with 1 Axes>"
      ]
     },
     "metadata": {},
     "output_type": "display_data"
    }
   ],
   "source": [
    "plt.plot(np.arange(0, 50, 0.1), train_mses_ridge)\n",
    "plt.plot(np.arange(0, 50, 0.1), cv_mses_ridge)\n",
    "plt.legend(['training error', 'cross validation error'])"
   ]
  },
  {
   "cell_type": "code",
   "execution_count": 883,
   "id": "657187b9",
   "metadata": {
    "scrolled": true
   },
   "outputs": [
    {
     "data": {
      "text/plain": [
       "11.7"
      ]
     },
     "execution_count": 883,
     "metadata": {},
     "output_type": "execute_result"
    }
   ],
   "source": [
    "alpha = np.argmin(np.array(cv_mses_ridge)) / 10\n",
    "alpha"
   ]
  },
  {
   "cell_type": "markdown",
   "id": "dcc46436",
   "metadata": {},
   "source": [
    "Implement an L2 regularized regression model with the alpha value found above and determine its accuracy."
   ]
  },
  {
   "cell_type": "code",
   "execution_count": 902,
   "id": "b2ec8272",
   "metadata": {},
   "outputs": [],
   "source": [
    "steps_ridge = [('scaler', StandardScaler()),\n",
    "        ('poly', PolynomialFeatures(3, include_bias=False)),\n",
    "        ('model', Ridge(alpha=alpha))]\n",
    "pipe_ridge = Pipeline(steps_ridge)\n",
    "model_ridge = pipe_ridge.fit(x_training, y_training)"
   ]
  },
  {
   "cell_type": "code",
   "execution_count": 903,
   "id": "00ffc6b9",
   "metadata": {
    "scrolled": false
   },
   "outputs": [
    {
     "name": "stdout",
     "output_type": "stream",
     "text": [
      "rmse training: 82612.5583485361,\n",
      "r2 training: 0.9156700384599326\n",
      "rmse test: 111097.19997984878,\n",
      "r2 test: 0.867509743349835\n",
      "rmse cv: 104503.85754997756,\n",
      "r2 cv: 0.8808866967599196\n"
     ]
    }
   ],
   "source": [
    "print(f\"rmse training: {np.sqrt(mean_squared_error(y_training, model_ridge.predict(x_training)))},\\\n",
    "\\nr2 training: {r2_score(y_training, model_ridge.predict(x_training))}\")\n",
    "print(f\"rmse test: {np.sqrt(mean_squared_error(y_test, model_ridge.predict(x_test)))},\\\n",
    "\\nr2 test: {r2_score(y_test, model_ridge.predict(x_test))}\")\n",
    "print(f\"rmse cv: {np.sqrt(mean_squared_error(y_cv, model_ridge.predict(x_cv)))},\\\n",
    "\\nr2 cv: {r2_score(y_cv, model_ridge.predict(x_cv))}\")"
   ]
  },
  {
   "cell_type": "markdown",
   "id": "934fa6de",
   "metadata": {},
   "source": [
    "This model seems to be much more accurate than the linear regression model."
   ]
  },
  {
   "cell_type": "markdown",
   "id": "6670d197",
   "metadata": {},
   "source": [
    "Try a gradient boosted regression model."
   ]
  },
  {
   "cell_type": "code",
   "execution_count": 887,
   "id": "7325e951",
   "metadata": {},
   "outputs": [],
   "source": [
    "steps_boost = [('scaler', StandardScaler()),\n",
    "        ('boost', XGBRegressor())]\n",
    "pipe_boost = Pipeline(steps_boost)\n",
    "model_boost = pipe_boost.fit(x_training, y_training)"
   ]
  },
  {
   "cell_type": "code",
   "execution_count": 888,
   "id": "c2b90f80",
   "metadata": {},
   "outputs": [
    {
     "name": "stdout",
     "output_type": "stream",
     "text": [
      "mse training: 52961562.65999614,\n",
      "r2 training: 0.9993455890618401\n",
      "mse test: 11392938325.897957,\n",
      "r2 test: 0.877703659722425\n",
      "mse cv: 15691397477.498472,\n",
      "r2 cv: 0.8288577455842989\n"
     ]
    }
   ],
   "source": [
    "print(f\"mse training: {mean_squared_error(y_training, yhat_boost)},\\\n",
    "\\nr2 training: {r2_score(y_training, yhat_boost)}\")\n",
    "print(f\"mse test: {mean_squared_error(y_test, model_boost.predict(x_test))},\\\n",
    "\\nr2 test: {r2_score(y_test, model_boost.predict(x_test))}\")\n",
    "print(f\"mse cv: {mean_squared_error(y_cv, model_boost.predict(x_cv))},\\\n",
    "\\nr2 cv: {r2_score(y_cv, model_boost.predict(x_cv))}\")"
   ]
  },
  {
   "cell_type": "markdown",
   "id": "0422ab95",
   "metadata": {},
   "source": [
    "Seems to be prone to overfitting. Try tuning hyperparameters to reduce overfit."
   ]
  },
  {
   "cell_type": "code",
   "execution_count": 890,
   "id": "19e35f02",
   "metadata": {},
   "outputs": [],
   "source": [
    "search_space = {\n",
    "    \"boost__reg_lambda\": [0, 0.01, 0.05, 0.1, 0.5, 1, 5, 10],\n",
    "    \"boost__gamma\": [0, 0.01, 0.05, 0.1, 0.5, 1],\n",
    "    \"boost__max_depth\": range(1, 21),\n",
    "    \"boost__learning_rate\": [0.001, 0.005, 0.01, 0.05, 0.1, 0.3, 0.5, 1],\n",
    "    \"boost__min_child_weight\": range(1, 21)\n",
    "}"
   ]
  },
  {
   "cell_type": "code",
   "execution_count": 907,
   "id": "44f2ea30",
   "metadata": {},
   "outputs": [],
   "source": [
    "rs = RandomizedSearchCV(\n",
    "    estimator=model_boost,\n",
    "    param_distributions=search_space,\n",
    "    scoring=[\"neg_root_mean_squared_error\", \"r2\"],\n",
    "    refit=\"r2\",\n",
    "    verbose=4,\n",
    "    n_iter=100\n",
    ")"
   ]
  },
  {
   "cell_type": "code",
   "execution_count": 920,
   "id": "04748221",
   "metadata": {},
   "outputs": [
    {
     "name": "stdout",
     "output_type": "stream",
     "text": [
      "Fitting 5 folds for each of 100 candidates, totalling 500 fits\n",
      "[CV 1/5] END boost__gamma=1, boost__learning_rate=0.001, boost__max_depth=20, boost__min_child_weight=2, boost__reg_lambda=0.1; neg_root_mean_squared_error: (test=-703793.472) r2: (test=-8.662) total time=   0.3s\n",
      "[CV 2/5] END boost__gamma=1, boost__learning_rate=0.001, boost__max_depth=20, boost__min_child_weight=2, boost__reg_lambda=0.1; neg_root_mean_squared_error: (test=-751125.432) r2: (test=-4.319) total time=   0.1s\n",
      "[CV 3/5] END boost__gamma=1, boost__learning_rate=0.001, boost__max_depth=20, boost__min_child_weight=2, boost__reg_lambda=0.1; neg_root_mean_squared_error: (test=-691524.006) r2: (test=-4.634) total time=   0.1s\n",
      "[CV 4/5] END boost__gamma=1, boost__learning_rate=0.001, boost__max_depth=20, boost__min_child_weight=2, boost__reg_lambda=0.1; neg_root_mean_squared_error: (test=-687665.597) r2: (test=-4.916) total time=   0.1s\n",
      "[CV 5/5] END boost__gamma=1, boost__learning_rate=0.001, boost__max_depth=20, boost__min_child_weight=2, boost__reg_lambda=0.1; neg_root_mean_squared_error: (test=-724406.770) r2: (test=-5.552) total time=   0.1s\n",
      "[CV 1/5] END boost__gamma=0, boost__learning_rate=0.1, boost__max_depth=5, boost__min_child_weight=18, boost__reg_lambda=0; neg_root_mean_squared_error: (test=-90919.291) r2: (test=0.839) total time=   0.0s\n",
      "[CV 2/5] END boost__gamma=0, boost__learning_rate=0.1, boost__max_depth=5, boost__min_child_weight=18, boost__reg_lambda=0; neg_root_mean_squared_error: (test=-103743.958) r2: (test=0.899) total time=   0.1s\n",
      "[CV 3/5] END boost__gamma=0, boost__learning_rate=0.1, boost__max_depth=5, boost__min_child_weight=18, boost__reg_lambda=0; neg_root_mean_squared_error: (test=-83272.388) r2: (test=0.918) total time=   0.1s\n",
      "[CV 4/5] END boost__gamma=0, boost__learning_rate=0.1, boost__max_depth=5, boost__min_child_weight=18, boost__reg_lambda=0; neg_root_mean_squared_error: (test=-93140.210) r2: (test=0.891) total time=   0.1s\n",
      "[CV 5/5] END boost__gamma=0, boost__learning_rate=0.1, boost__max_depth=5, boost__min_child_weight=18, boost__reg_lambda=0; neg_root_mean_squared_error: (test=-102924.931) r2: (test=0.868) total time=   0.1s\n",
      "[CV 1/5] END boost__gamma=0.01, boost__learning_rate=0.5, boost__max_depth=16, boost__min_child_weight=11, boost__reg_lambda=1; neg_root_mean_squared_error: (test=-107291.348) r2: (test=0.775) total time=   0.1s\n",
      "[CV 2/5] END boost__gamma=0.01, boost__learning_rate=0.5, boost__max_depth=16, boost__min_child_weight=11, boost__reg_lambda=1; neg_root_mean_squared_error: (test=-115523.890) r2: (test=0.874) total time=   0.1s\n",
      "[CV 3/5] END boost__gamma=0.01, boost__learning_rate=0.5, boost__max_depth=16, boost__min_child_weight=11, boost__reg_lambda=1; neg_root_mean_squared_error: (test=-94217.435) r2: (test=0.895) total time=   0.1s\n",
      "[CV 4/5] END boost__gamma=0.01, boost__learning_rate=0.5, boost__max_depth=16, boost__min_child_weight=11, boost__reg_lambda=1; neg_root_mean_squared_error: (test=-123068.111) r2: (test=0.811) total time=   0.1s\n",
      "[CV 5/5] END boost__gamma=0.01, boost__learning_rate=0.5, boost__max_depth=16, boost__min_child_weight=11, boost__reg_lambda=1; neg_root_mean_squared_error: (test=-109101.166) r2: (test=0.851) total time=   0.1s\n",
      "[CV 1/5] END boost__gamma=1, boost__learning_rate=0.001, boost__max_depth=10, boost__min_child_weight=10, boost__reg_lambda=0.5; neg_root_mean_squared_error: (test=-703076.819) r2: (test=-8.643) total time=   0.0s\n",
      "[CV 2/5] END boost__gamma=1, boost__learning_rate=0.001, boost__max_depth=10, boost__min_child_weight=10, boost__reg_lambda=0.5; neg_root_mean_squared_error: (test=-752319.434) r2: (test=-4.336) total time=   0.0s\n",
      "[CV 3/5] END boost__gamma=1, boost__learning_rate=0.001, boost__max_depth=10, boost__min_child_weight=10, boost__reg_lambda=0.5; neg_root_mean_squared_error: (test=-693797.902) r2: (test=-4.671) total time=   0.0s\n",
      "[CV 4/5] END boost__gamma=1, boost__learning_rate=0.001, boost__max_depth=10, boost__min_child_weight=10, boost__reg_lambda=0.5; neg_root_mean_squared_error: (test=-688923.243) r2: (test=-4.938) total time=   0.0s\n",
      "[CV 5/5] END boost__gamma=1, boost__learning_rate=0.001, boost__max_depth=10, boost__min_child_weight=10, boost__reg_lambda=0.5; neg_root_mean_squared_error: (test=-725731.755) r2: (test=-5.576) total time=   0.0s\n",
      "[CV 1/5] END boost__gamma=0, boost__learning_rate=0.005, boost__max_depth=20, boost__min_child_weight=2, boost__reg_lambda=0; neg_root_mean_squared_error: (test=-469707.205) r2: (test=-3.304) total time=   0.1s\n",
      "[CV 2/5] END boost__gamma=0, boost__learning_rate=0.005, boost__max_depth=20, boost__min_child_weight=2, boost__reg_lambda=0; neg_root_mean_squared_error: (test=-519282.914) r2: (test=-1.542) total time=   0.2s\n",
      "[CV 3/5] END boost__gamma=0, boost__learning_rate=0.005, boost__max_depth=20, boost__min_child_weight=2, boost__reg_lambda=0; neg_root_mean_squared_error: (test=-454731.085) r2: (test=-1.436) total time=   0.1s\n",
      "[CV 4/5] END boost__gamma=0, boost__learning_rate=0.005, boost__max_depth=20, boost__min_child_weight=2, boost__reg_lambda=0; neg_root_mean_squared_error: (test=-459210.238) r2: (test=-1.638) total time=   0.1s\n",
      "[CV 5/5] END boost__gamma=0, boost__learning_rate=0.005, boost__max_depth=20, boost__min_child_weight=2, boost__reg_lambda=0; neg_root_mean_squared_error: (test=-493153.516) r2: (test=-2.036) total time=   0.1s\n",
      "[CV 1/5] END boost__gamma=1, boost__learning_rate=1, boost__max_depth=13, boost__min_child_weight=18, boost__reg_lambda=0; neg_root_mean_squared_error: (test=-96329.896) r2: (test=0.819) total time=   0.1s\n",
      "[CV 2/5] END boost__gamma=1, boost__learning_rate=1, boost__max_depth=13, boost__min_child_weight=18, boost__reg_lambda=0; neg_root_mean_squared_error: (test=-125010.176) r2: (test=0.853) total time=   0.1s\n",
      "[CV 3/5] END boost__gamma=1, boost__learning_rate=1, boost__max_depth=13, boost__min_child_weight=18, boost__reg_lambda=0; neg_root_mean_squared_error: (test=-110270.318) r2: (test=0.857) total time=   0.1s\n",
      "[CV 4/5] END boost__gamma=1, boost__learning_rate=1, boost__max_depth=13, boost__min_child_weight=18, boost__reg_lambda=0; neg_root_mean_squared_error: (test=-128729.982) r2: (test=0.793) total time=   0.1s\n",
      "[CV 5/5] END boost__gamma=1, boost__learning_rate=1, boost__max_depth=13, boost__min_child_weight=18, boost__reg_lambda=0; neg_root_mean_squared_error: (test=-133538.704) r2: (test=0.777) total time=   0.1s\n",
      "[CV 1/5] END boost__gamma=0.05, boost__learning_rate=1, boost__max_depth=13, boost__min_child_weight=1, boost__reg_lambda=10; neg_root_mean_squared_error: (test=-117051.106) r2: (test=0.733) total time=   0.2s\n",
      "[CV 2/5] END boost__gamma=0.05, boost__learning_rate=1, boost__max_depth=13, boost__min_child_weight=1, boost__reg_lambda=10; neg_root_mean_squared_error: (test=-115323.891) r2: (test=0.875) total time=   0.1s\n",
      "[CV 3/5] END boost__gamma=0.05, boost__learning_rate=1, boost__max_depth=13, boost__min_child_weight=1, boost__reg_lambda=10; neg_root_mean_squared_error: (test=-106170.128) r2: (test=0.867) total time=   0.1s\n",
      "[CV 4/5] END boost__gamma=0.05, boost__learning_rate=1, boost__max_depth=13, boost__min_child_weight=1, boost__reg_lambda=10; neg_root_mean_squared_error: (test=-109780.343) r2: (test=0.849) total time=   0.1s\n",
      "[CV 5/5] END boost__gamma=0.05, boost__learning_rate=1, boost__max_depth=13, boost__min_child_weight=1, boost__reg_lambda=10; neg_root_mean_squared_error: (test=-110706.078) r2: (test=0.847) total time=   0.1s\n",
      "[CV 1/5] END boost__gamma=0.1, boost__learning_rate=0.3, boost__max_depth=14, boost__min_child_weight=4, boost__reg_lambda=0.1; neg_root_mean_squared_error: (test=-105821.636) r2: (test=0.782) total time=   0.1s\n",
      "[CV 2/5] END boost__gamma=0.1, boost__learning_rate=0.3, boost__max_depth=14, boost__min_child_weight=4, boost__reg_lambda=0.1; neg_root_mean_squared_error: (test=-115876.359) r2: (test=0.873) total time=   0.1s\n",
      "[CV 3/5] END boost__gamma=0.1, boost__learning_rate=0.3, boost__max_depth=14, boost__min_child_weight=4, boost__reg_lambda=0.1; neg_root_mean_squared_error: (test=-96609.213) r2: (test=0.890) total time=   0.1s\n",
      "[CV 4/5] END boost__gamma=0.1, boost__learning_rate=0.3, boost__max_depth=14, boost__min_child_weight=4, boost__reg_lambda=0.1; neg_root_mean_squared_error: (test=-92151.717) r2: (test=0.894) total time=   0.1s\n"
     ]
    },
    {
     "name": "stdout",
     "output_type": "stream",
     "text": [
      "[CV 5/5] END boost__gamma=0.1, boost__learning_rate=0.3, boost__max_depth=14, boost__min_child_weight=4, boost__reg_lambda=0.1; neg_root_mean_squared_error: (test=-127385.023) r2: (test=0.797) total time=   0.2s\n",
      "[CV 1/5] END boost__gamma=0.01, boost__learning_rate=0.005, boost__max_depth=19, boost__min_child_weight=10, boost__reg_lambda=5; neg_root_mean_squared_error: (test=-482314.598) r2: (test=-3.538) total time=   0.0s\n",
      "[CV 2/5] END boost__gamma=0.01, boost__learning_rate=0.005, boost__max_depth=19, boost__min_child_weight=10, boost__reg_lambda=5; neg_root_mean_squared_error: (test=-544311.642) r2: (test=-1.793) total time=   0.0s\n",
      "[CV 3/5] END boost__gamma=0.01, boost__learning_rate=0.005, boost__max_depth=19, boost__min_child_weight=10, boost__reg_lambda=5; neg_root_mean_squared_error: (test=-483435.502) r2: (test=-1.754) total time=   0.0s\n",
      "[CV 4/5] END boost__gamma=0.01, boost__learning_rate=0.005, boost__max_depth=19, boost__min_child_weight=10, boost__reg_lambda=5; neg_root_mean_squared_error: (test=-475305.800) r2: (test=-1.827) total time=   0.0s\n",
      "[CV 5/5] END boost__gamma=0.01, boost__learning_rate=0.005, boost__max_depth=19, boost__min_child_weight=10, boost__reg_lambda=5; neg_root_mean_squared_error: (test=-517736.761) r2: (test=-2.347) total time=   0.0s\n",
      "[CV 1/5] END boost__gamma=1, boost__learning_rate=0.005, boost__max_depth=8, boost__min_child_weight=10, boost__reg_lambda=0; neg_root_mean_squared_error: (test=-468326.737) r2: (test=-3.279) total time=   0.1s\n",
      "[CV 2/5] END boost__gamma=1, boost__learning_rate=0.005, boost__max_depth=8, boost__min_child_weight=10, boost__reg_lambda=0; neg_root_mean_squared_error: (test=-519255.429) r2: (test=-1.542) total time=   0.1s\n",
      "[CV 3/5] END boost__gamma=1, boost__learning_rate=0.005, boost__max_depth=8, boost__min_child_weight=10, boost__reg_lambda=0; neg_root_mean_squared_error: (test=-461089.554) r2: (test=-1.505) total time=   0.1s\n",
      "[CV 4/5] END boost__gamma=1, boost__learning_rate=0.005, boost__max_depth=8, boost__min_child_weight=10, boost__reg_lambda=0; neg_root_mean_squared_error: (test=-466027.468) r2: (test=-1.717) total time=   0.1s\n",
      "[CV 5/5] END boost__gamma=1, boost__learning_rate=0.005, boost__max_depth=8, boost__min_child_weight=10, boost__reg_lambda=0; neg_root_mean_squared_error: (test=-494620.301) r2: (test=-2.054) total time=   0.1s\n",
      "[CV 1/5] END boost__gamma=0.05, boost__learning_rate=0.01, boost__max_depth=12, boost__min_child_weight=4, boost__reg_lambda=0; neg_root_mean_squared_error: (test=-284542.435) r2: (test=-0.579) total time=   0.3s\n",
      "[CV 2/5] END boost__gamma=0.05, boost__learning_rate=0.01, boost__max_depth=12, boost__min_child_weight=4, boost__reg_lambda=0; neg_root_mean_squared_error: (test=-334034.233) r2: (test=-0.052) total time=   0.1s\n",
      "[CV 3/5] END boost__gamma=0.05, boost__learning_rate=0.01, boost__max_depth=12, boost__min_child_weight=4, boost__reg_lambda=0; neg_root_mean_squared_error: (test=-278397.786) r2: (test=0.087) total time=   0.1s\n",
      "[CV 4/5] END boost__gamma=0.05, boost__learning_rate=0.01, boost__max_depth=12, boost__min_child_weight=4, boost__reg_lambda=0; neg_root_mean_squared_error: (test=-283304.289) r2: (test=-0.004) total time=   0.6s\n",
      "[CV 5/5] END boost__gamma=0.05, boost__learning_rate=0.01, boost__max_depth=12, boost__min_child_weight=4, boost__reg_lambda=0; neg_root_mean_squared_error: (test=-319490.966) r2: (test=-0.274) total time=   0.1s\n",
      "[CV 1/5] END boost__gamma=0.01, boost__learning_rate=0.05, boost__max_depth=11, boost__min_child_weight=13, boost__reg_lambda=0.05; neg_root_mean_squared_error: (test=-93931.642) r2: (test=0.828) total time=   0.1s\n",
      "[CV 2/5] END boost__gamma=0.01, boost__learning_rate=0.05, boost__max_depth=11, boost__min_child_weight=13, boost__reg_lambda=0.05; neg_root_mean_squared_error: (test=-106995.721) r2: (test=0.892) total time=   0.2s\n",
      "[CV 3/5] END boost__gamma=0.01, boost__learning_rate=0.05, boost__max_depth=11, boost__min_child_weight=13, boost__reg_lambda=0.05; neg_root_mean_squared_error: (test=-81569.330) r2: (test=0.922) total time=   0.1s\n",
      "[CV 4/5] END boost__gamma=0.01, boost__learning_rate=0.05, boost__max_depth=11, boost__min_child_weight=13, boost__reg_lambda=0.05; neg_root_mean_squared_error: (test=-92264.911) r2: (test=0.893) total time=   0.1s\n",
      "[CV 5/5] END boost__gamma=0.01, boost__learning_rate=0.05, boost__max_depth=11, boost__min_child_weight=13, boost__reg_lambda=0.05; neg_root_mean_squared_error: (test=-110212.302) r2: (test=0.848) total time=   0.1s\n",
      "[CV 1/5] END boost__gamma=0.05, boost__learning_rate=0.1, boost__max_depth=15, boost__min_child_weight=4, boost__reg_lambda=0; neg_root_mean_squared_error: (test=-110082.004) r2: (test=0.764) total time=   0.1s\n",
      "[CV 2/5] END boost__gamma=0.05, boost__learning_rate=0.1, boost__max_depth=15, boost__min_child_weight=4, boost__reg_lambda=0; neg_root_mean_squared_error: (test=-106312.933) r2: (test=0.893) total time=   0.1s\n",
      "[CV 3/5] END boost__gamma=0.05, boost__learning_rate=0.1, boost__max_depth=15, boost__min_child_weight=4, boost__reg_lambda=0; neg_root_mean_squared_error: (test=-96986.628) r2: (test=0.889) total time=   0.1s\n",
      "[CV 4/5] END boost__gamma=0.05, boost__learning_rate=0.1, boost__max_depth=15, boost__min_child_weight=4, boost__reg_lambda=0; neg_root_mean_squared_error: (test=-87534.044) r2: (test=0.904) total time=   0.1s\n",
      "[CV 5/5] END boost__gamma=0.05, boost__learning_rate=0.1, boost__max_depth=15, boost__min_child_weight=4, boost__reg_lambda=0; neg_root_mean_squared_error: (test=-128375.790) r2: (test=0.794) total time=   0.1s\n",
      "[CV 1/5] END boost__gamma=1, boost__learning_rate=0.001, boost__max_depth=14, boost__min_child_weight=5, boost__reg_lambda=10; neg_root_mean_squared_error: (test=-709870.693) r2: (test=-8.830) total time=   0.0s\n",
      "[CV 2/5] END boost__gamma=1, boost__learning_rate=0.001, boost__max_depth=14, boost__min_child_weight=5, boost__reg_lambda=10; neg_root_mean_squared_error: (test=-759936.921) r2: (test=-4.444) total time=   0.0s\n",
      "[CV 3/5] END boost__gamma=1, boost__learning_rate=0.001, boost__max_depth=14, boost__min_child_weight=5, boost__reg_lambda=10; neg_root_mean_squared_error: (test=-699580.001) r2: (test=-4.766) total time=   0.0s\n",
      "[CV 4/5] END boost__gamma=1, boost__learning_rate=0.001, boost__max_depth=14, boost__min_child_weight=5, boost__reg_lambda=10; neg_root_mean_squared_error: (test=-693160.949) r2: (test=-5.011) total time=   0.0s\n",
      "[CV 5/5] END boost__gamma=1, boost__learning_rate=0.001, boost__max_depth=14, boost__min_child_weight=5, boost__reg_lambda=10; neg_root_mean_squared_error: (test=-733982.093) r2: (test=-5.726) total time=   0.0s\n",
      "[CV 1/5] END boost__gamma=0.05, boost__learning_rate=0.5, boost__max_depth=1, boost__min_child_weight=16, boost__reg_lambda=0; neg_root_mean_squared_error: (test=-117836.173) r2: (test=0.729) total time=   0.0s\n",
      "[CV 2/5] END boost__gamma=0.05, boost__learning_rate=0.5, boost__max_depth=1, boost__min_child_weight=16, boost__reg_lambda=0; neg_root_mean_squared_error: (test=-125957.138) r2: (test=0.850) total time=   0.0s\n",
      "[CV 3/5] END boost__gamma=0.05, boost__learning_rate=0.5, boost__max_depth=1, boost__min_child_weight=16, boost__reg_lambda=0; neg_root_mean_squared_error: (test=-101860.865) r2: (test=0.878) total time=   0.0s\n",
      "[CV 4/5] END boost__gamma=0.05, boost__learning_rate=0.5, boost__max_depth=1, boost__min_child_weight=16, boost__reg_lambda=0; neg_root_mean_squared_error: (test=-106205.705) r2: (test=0.859) total time=   0.0s\n",
      "[CV 5/5] END boost__gamma=0.05, boost__learning_rate=0.5, boost__max_depth=1, boost__min_child_weight=16, boost__reg_lambda=0; neg_root_mean_squared_error: (test=-122755.996) r2: (test=0.812) total time=   0.0s\n",
      "[CV 1/5] END boost__gamma=1, boost__learning_rate=0.3, boost__max_depth=5, boost__min_child_weight=16, boost__reg_lambda=0; neg_root_mean_squared_error: (test=-87682.098) r2: (test=0.850) total time=   0.0s\n",
      "[CV 2/5] END boost__gamma=1, boost__learning_rate=0.3, boost__max_depth=5, boost__min_child_weight=16, boost__reg_lambda=0; neg_root_mean_squared_error: (test=-109517.958) r2: (test=0.887) total time=   0.0s\n",
      "[CV 3/5] END boost__gamma=1, boost__learning_rate=0.3, boost__max_depth=5, boost__min_child_weight=16, boost__reg_lambda=0; neg_root_mean_squared_error: (test=-82793.512) r2: (test=0.919) total time=   0.1s\n",
      "[CV 4/5] END boost__gamma=1, boost__learning_rate=0.3, boost__max_depth=5, boost__min_child_weight=16, boost__reg_lambda=0; neg_root_mean_squared_error: (test=-108870.081) r2: (test=0.852) total time=   0.1s\n",
      "[CV 5/5] END boost__gamma=1, boost__learning_rate=0.3, boost__max_depth=5, boost__min_child_weight=16, boost__reg_lambda=0; neg_root_mean_squared_error: (test=-109670.674) r2: (test=0.850) total time=   0.0s\n"
     ]
    },
    {
     "name": "stdout",
     "output_type": "stream",
     "text": [
      "[CV 1/5] END boost__gamma=0.5, boost__learning_rate=0.01, boost__max_depth=7, boost__min_child_weight=1, boost__reg_lambda=0.01; neg_root_mean_squared_error: (test=-288254.256) r2: (test=-0.621) total time=   0.2s\n",
      "[CV 2/5] END boost__gamma=0.5, boost__learning_rate=0.01, boost__max_depth=7, boost__min_child_weight=1, boost__reg_lambda=0.01; neg_root_mean_squared_error: (test=-340204.861) r2: (test=-0.091) total time=   0.1s\n",
      "[CV 3/5] END boost__gamma=0.5, boost__learning_rate=0.01, boost__max_depth=7, boost__min_child_weight=1, boost__reg_lambda=0.01; neg_root_mean_squared_error: (test=-275842.808) r2: (test=0.103) total time=   0.1s\n",
      "[CV 4/5] END boost__gamma=0.5, boost__learning_rate=0.01, boost__max_depth=7, boost__min_child_weight=1, boost__reg_lambda=0.01; neg_root_mean_squared_error: (test=-287885.824) r2: (test=-0.037) total time=   0.1s\n",
      "[CV 5/5] END boost__gamma=0.5, boost__learning_rate=0.01, boost__max_depth=7, boost__min_child_weight=1, boost__reg_lambda=0.01; neg_root_mean_squared_error: (test=-327627.026) r2: (test=-0.340) total time=   0.1s\n",
      "[CV 1/5] END boost__gamma=0.1, boost__learning_rate=0.3, boost__max_depth=19, boost__min_child_weight=5, boost__reg_lambda=0.01; neg_root_mean_squared_error: (test=-103237.059) r2: (test=0.792) total time=   0.5s\n",
      "[CV 2/5] END boost__gamma=0.1, boost__learning_rate=0.3, boost__max_depth=19, boost__min_child_weight=5, boost__reg_lambda=0.01; neg_root_mean_squared_error: (test=-119796.073) r2: (test=0.865) total time=   0.4s\n",
      "[CV 3/5] END boost__gamma=0.1, boost__learning_rate=0.3, boost__max_depth=19, boost__min_child_weight=5, boost__reg_lambda=0.01; neg_root_mean_squared_error: (test=-95407.315) r2: (test=0.893) total time=   0.1s\n",
      "[CV 4/5] END boost__gamma=0.1, boost__learning_rate=0.3, boost__max_depth=19, boost__min_child_weight=5, boost__reg_lambda=0.01; neg_root_mean_squared_error: (test=-94780.050) r2: (test=0.888) total time=   0.1s\n",
      "[CV 5/5] END boost__gamma=0.1, boost__learning_rate=0.3, boost__max_depth=19, boost__min_child_weight=5, boost__reg_lambda=0.01; neg_root_mean_squared_error: (test=-120601.705) r2: (test=0.818) total time=   0.1s\n",
      "[CV 1/5] END boost__gamma=0, boost__learning_rate=0.005, boost__max_depth=13, boost__min_child_weight=10, boost__reg_lambda=0.1; neg_root_mean_squared_error: (test=-469104.446) r2: (test=-3.293) total time=   0.3s\n",
      "[CV 2/5] END boost__gamma=0, boost__learning_rate=0.005, boost__max_depth=13, boost__min_child_weight=10, boost__reg_lambda=0.1; neg_root_mean_squared_error: (test=-520232.000) r2: (test=-1.551) total time=   0.1s\n",
      "[CV 3/5] END boost__gamma=0, boost__learning_rate=0.005, boost__max_depth=13, boost__min_child_weight=10, boost__reg_lambda=0.1; neg_root_mean_squared_error: (test=-462375.693) r2: (test=-1.519) total time=   0.1s\n",
      "[CV 4/5] END boost__gamma=0, boost__learning_rate=0.005, boost__max_depth=13, boost__min_child_weight=10, boost__reg_lambda=0.1; neg_root_mean_squared_error: (test=-467182.420) r2: (test=-1.731) total time=   0.0s\n",
      "[CV 5/5] END boost__gamma=0, boost__learning_rate=0.005, boost__max_depth=13, boost__min_child_weight=10, boost__reg_lambda=0.1; neg_root_mean_squared_error: (test=-494954.093) r2: (test=-2.059) total time=   0.1s\n",
      "[CV 1/5] END boost__gamma=0, boost__learning_rate=1, boost__max_depth=5, boost__min_child_weight=18, boost__reg_lambda=0.01; neg_root_mean_squared_error: (test=-96850.386) r2: (test=0.817) total time=   0.0s\n",
      "[CV 2/5] END boost__gamma=0, boost__learning_rate=1, boost__max_depth=5, boost__min_child_weight=18, boost__reg_lambda=0.01; neg_root_mean_squared_error: (test=-109950.271) r2: (test=0.886) total time=   0.0s\n",
      "[CV 3/5] END boost__gamma=0, boost__learning_rate=1, boost__max_depth=5, boost__min_child_weight=18, boost__reg_lambda=0.01; neg_root_mean_squared_error: (test=-120193.220) r2: (test=0.830) total time=   0.0s\n",
      "[CV 4/5] END boost__gamma=0, boost__learning_rate=1, boost__max_depth=5, boost__min_child_weight=18, boost__reg_lambda=0.01; neg_root_mean_squared_error: (test=-133863.831) r2: (test=0.776) total time=   0.0s\n",
      "[CV 5/5] END boost__gamma=0, boost__learning_rate=1, boost__max_depth=5, boost__min_child_weight=18, boost__reg_lambda=0.01; neg_root_mean_squared_error: (test=-129331.386) r2: (test=0.791) total time=   0.1s\n",
      "[CV 1/5] END boost__gamma=0, boost__learning_rate=0.001, boost__max_depth=4, boost__min_child_weight=16, boost__reg_lambda=5; neg_root_mean_squared_error: (test=-707303.640) r2: (test=-8.759) total time=   0.0s\n",
      "[CV 2/5] END boost__gamma=0, boost__learning_rate=0.001, boost__max_depth=4, boost__min_child_weight=16, boost__reg_lambda=5; neg_root_mean_squared_error: (test=-757195.618) r2: (test=-4.405) total time=   0.0s\n",
      "[CV 3/5] END boost__gamma=0, boost__learning_rate=0.001, boost__max_depth=4, boost__min_child_weight=16, boost__reg_lambda=5; neg_root_mean_squared_error: (test=-697217.467) r2: (test=-4.727) total time=   0.0s\n",
      "[CV 4/5] END boost__gamma=0, boost__learning_rate=0.001, boost__max_depth=4, boost__min_child_weight=16, boost__reg_lambda=5; neg_root_mean_squared_error: (test=-689835.139) r2: (test=-4.954) total time=   0.0s\n",
      "[CV 5/5] END boost__gamma=0, boost__learning_rate=0.001, boost__max_depth=4, boost__min_child_weight=16, boost__reg_lambda=5; neg_root_mean_squared_error: (test=-731511.138) r2: (test=-5.681) total time=   0.0s\n",
      "[CV 1/5] END boost__gamma=0.05, boost__learning_rate=0.005, boost__max_depth=9, boost__min_child_weight=9, boost__reg_lambda=1; neg_root_mean_squared_error: (test=-470871.074) r2: (test=-3.325) total time=   0.1s\n",
      "[CV 2/5] END boost__gamma=0.05, boost__learning_rate=0.005, boost__max_depth=9, boost__min_child_weight=9, boost__reg_lambda=1; neg_root_mean_squared_error: (test=-530198.357) r2: (test=-1.650) total time=   0.0s\n",
      "[CV 3/5] END boost__gamma=0.05, boost__learning_rate=0.005, boost__max_depth=9, boost__min_child_weight=9, boost__reg_lambda=1; neg_root_mean_squared_error: (test=-473392.365) r2: (test=-1.640) total time=   0.1s\n",
      "[CV 4/5] END boost__gamma=0.05, boost__learning_rate=0.005, boost__max_depth=9, boost__min_child_weight=9, boost__reg_lambda=1; neg_root_mean_squared_error: (test=-468566.218) r2: (test=-1.747) total time=   0.0s\n",
      "[CV 5/5] END boost__gamma=0.05, boost__learning_rate=0.005, boost__max_depth=9, boost__min_child_weight=9, boost__reg_lambda=1; neg_root_mean_squared_error: (test=-502769.148) r2: (test=-2.156) total time=   0.1s\n",
      "[CV 1/5] END boost__gamma=0.1, boost__learning_rate=0.5, boost__max_depth=11, boost__min_child_weight=14, boost__reg_lambda=1; neg_root_mean_squared_error: (test=-94217.816) r2: (test=0.827) total time=   0.1s\n",
      "[CV 2/5] END boost__gamma=0.1, boost__learning_rate=0.5, boost__max_depth=11, boost__min_child_weight=14, boost__reg_lambda=1; neg_root_mean_squared_error: (test=-116267.803) r2: (test=0.873) total time=   0.1s\n",
      "[CV 3/5] END boost__gamma=0.1, boost__learning_rate=0.5, boost__max_depth=11, boost__min_child_weight=14, boost__reg_lambda=1; neg_root_mean_squared_error: (test=-99291.529) r2: (test=0.884) total time=   0.1s\n",
      "[CV 4/5] END boost__gamma=0.1, boost__learning_rate=0.5, boost__max_depth=11, boost__min_child_weight=14, boost__reg_lambda=1; neg_root_mean_squared_error: (test=-121787.923) r2: (test=0.814) total time=   0.1s\n",
      "[CV 5/5] END boost__gamma=0.1, boost__learning_rate=0.5, boost__max_depth=11, boost__min_child_weight=14, boost__reg_lambda=1; neg_root_mean_squared_error: (test=-111754.573) r2: (test=0.844) total time=   0.2s\n",
      "[CV 1/5] END boost__gamma=0.1, boost__learning_rate=0.1, boost__max_depth=10, boost__min_child_weight=13, boost__reg_lambda=0.05; neg_root_mean_squared_error: (test=-97218.882) r2: (test=0.816) total time=   0.2s\n",
      "[CV 2/5] END boost__gamma=0.1, boost__learning_rate=0.1, boost__max_depth=10, boost__min_child_weight=13, boost__reg_lambda=0.05; neg_root_mean_squared_error: (test=-106128.395) r2: (test=0.894) total time=   0.1s\n",
      "[CV 3/5] END boost__gamma=0.1, boost__learning_rate=0.1, boost__max_depth=10, boost__min_child_weight=13, boost__reg_lambda=0.05; neg_root_mean_squared_error: (test=-85576.141) r2: (test=0.914) total time=   0.1s\n",
      "[CV 4/5] END boost__gamma=0.1, boost__learning_rate=0.1, boost__max_depth=10, boost__min_child_weight=13, boost__reg_lambda=0.05; neg_root_mean_squared_error: (test=-99987.841) r2: (test=0.875) total time=   0.1s\n",
      "[CV 5/5] END boost__gamma=0.1, boost__learning_rate=0.1, boost__max_depth=10, boost__min_child_weight=13, boost__reg_lambda=0.05; neg_root_mean_squared_error: (test=-112802.862) r2: (test=0.841) total time=   0.1s\n"
     ]
    },
    {
     "name": "stdout",
     "output_type": "stream",
     "text": [
      "[CV 1/5] END boost__gamma=0, boost__learning_rate=0.005, boost__max_depth=8, boost__min_child_weight=2, boost__reg_lambda=0.05; neg_root_mean_squared_error: (test=-471765.860) r2: (test=-3.342) total time=   0.1s\n",
      "[CV 2/5] END boost__gamma=0, boost__learning_rate=0.005, boost__max_depth=8, boost__min_child_weight=2, boost__reg_lambda=0.05; neg_root_mean_squared_error: (test=-517382.463) r2: (test=-1.524) total time=   0.1s\n",
      "[CV 3/5] END boost__gamma=0, boost__learning_rate=0.005, boost__max_depth=8, boost__min_child_weight=2, boost__reg_lambda=0.05; neg_root_mean_squared_error: (test=-459442.837) r2: (test=-1.487) total time=   0.1s\n",
      "[CV 4/5] END boost__gamma=0, boost__learning_rate=0.005, boost__max_depth=8, boost__min_child_weight=2, boost__reg_lambda=0.05; neg_root_mean_squared_error: (test=-462213.963) r2: (test=-1.673) total time=   0.1s\n",
      "[CV 5/5] END boost__gamma=0, boost__learning_rate=0.005, boost__max_depth=8, boost__min_child_weight=2, boost__reg_lambda=0.05; neg_root_mean_squared_error: (test=-492843.353) r2: (test=-2.033) total time=   0.1s\n",
      "[CV 1/5] END boost__gamma=0.05, boost__learning_rate=1, boost__max_depth=2, boost__min_child_weight=7, boost__reg_lambda=5; neg_root_mean_squared_error: (test=-105903.345) r2: (test=0.781) total time=   0.0s\n",
      "[CV 2/5] END boost__gamma=0.05, boost__learning_rate=1, boost__max_depth=2, boost__min_child_weight=7, boost__reg_lambda=5; neg_root_mean_squared_error: (test=-137509.060) r2: (test=0.822) total time=   0.0s\n",
      "[CV 3/5] END boost__gamma=0.05, boost__learning_rate=1, boost__max_depth=2, boost__min_child_weight=7, boost__reg_lambda=5; neg_root_mean_squared_error: (test=-105176.279) r2: (test=0.870) total time=   0.0s\n",
      "[CV 4/5] END boost__gamma=0.05, boost__learning_rate=1, boost__max_depth=2, boost__min_child_weight=7, boost__reg_lambda=5; neg_root_mean_squared_error: (test=-97809.300) r2: (test=0.880) total time=   0.0s\n",
      "[CV 5/5] END boost__gamma=0.05, boost__learning_rate=1, boost__max_depth=2, boost__min_child_weight=7, boost__reg_lambda=5; neg_root_mean_squared_error: (test=-99718.255) r2: (test=0.876) total time=   0.0s\n",
      "[CV 1/5] END boost__gamma=0, boost__learning_rate=0.005, boost__max_depth=1, boost__min_child_weight=18, boost__reg_lambda=5; neg_root_mean_squared_error: (test=-492663.575) r2: (test=-3.735) total time=   0.0s\n",
      "[CV 2/5] END boost__gamma=0, boost__learning_rate=0.005, boost__max_depth=1, boost__min_child_weight=18, boost__reg_lambda=5; neg_root_mean_squared_error: (test=-552530.366) r2: (test=-1.878) total time=   0.0s\n",
      "[CV 3/5] END boost__gamma=0, boost__learning_rate=0.005, boost__max_depth=1, boost__min_child_weight=18, boost__reg_lambda=5; neg_root_mean_squared_error: (test=-492372.358) r2: (test=-1.856) total time=   0.0s\n",
      "[CV 4/5] END boost__gamma=0, boost__learning_rate=0.005, boost__max_depth=1, boost__min_child_weight=18, boost__reg_lambda=5; neg_root_mean_squared_error: (test=-483315.811) r2: (test=-1.923) total time=   0.0s\n",
      "[CV 5/5] END boost__gamma=0, boost__learning_rate=0.005, boost__max_depth=1, boost__min_child_weight=18, boost__reg_lambda=5; neg_root_mean_squared_error: (test=-525279.669) r2: (test=-2.445) total time=   0.0s\n",
      "[CV 1/5] END boost__gamma=1, boost__learning_rate=0.05, boost__max_depth=8, boost__min_child_weight=6, boost__reg_lambda=10; neg_root_mean_squared_error: (test=-97537.447) r2: (test=0.814) total time=   0.1s\n",
      "[CV 2/5] END boost__gamma=1, boost__learning_rate=0.05, boost__max_depth=8, boost__min_child_weight=6, boost__reg_lambda=10; neg_root_mean_squared_error: (test=-119687.378) r2: (test=0.865) total time=   0.1s\n",
      "[CV 3/5] END boost__gamma=1, boost__learning_rate=0.05, boost__max_depth=8, boost__min_child_weight=6, boost__reg_lambda=10; neg_root_mean_squared_error: (test=-82121.387) r2: (test=0.921) total time=   0.1s\n",
      "[CV 4/5] END boost__gamma=1, boost__learning_rate=0.05, boost__max_depth=8, boost__min_child_weight=6, boost__reg_lambda=10; neg_root_mean_squared_error: (test=-106020.846) r2: (test=0.859) total time=   0.0s\n",
      "[CV 5/5] END boost__gamma=1, boost__learning_rate=0.05, boost__max_depth=8, boost__min_child_weight=6, boost__reg_lambda=10; neg_root_mean_squared_error: (test=-114383.760) r2: (test=0.837) total time=   0.1s\n",
      "[CV 1/5] END boost__gamma=0.1, boost__learning_rate=0.005, boost__max_depth=8, boost__min_child_weight=11, boost__reg_lambda=0.01; neg_root_mean_squared_error: (test=-468725.510) r2: (test=-3.286) total time=   0.1s\n",
      "[CV 2/5] END boost__gamma=0.1, boost__learning_rate=0.005, boost__max_depth=8, boost__min_child_weight=11, boost__reg_lambda=0.01; neg_root_mean_squared_error: (test=-520309.661) r2: (test=-1.552) total time=   0.1s\n",
      "[CV 3/5] END boost__gamma=0.1, boost__learning_rate=0.005, boost__max_depth=8, boost__min_child_weight=11, boost__reg_lambda=0.01; neg_root_mean_squared_error: (test=-461660.174) r2: (test=-1.511) total time=   0.1s\n",
      "[CV 4/5] END boost__gamma=0.1, boost__learning_rate=0.005, boost__max_depth=8, boost__min_child_weight=11, boost__reg_lambda=0.01; neg_root_mean_squared_error: (test=-465875.763) r2: (test=-1.715) total time=   0.3s\n",
      "[CV 5/5] END boost__gamma=0.1, boost__learning_rate=0.005, boost__max_depth=8, boost__min_child_weight=11, boost__reg_lambda=0.01; neg_root_mean_squared_error: (test=-494913.459) r2: (test=-2.058) total time=   0.1s\n",
      "[CV 1/5] END boost__gamma=0.5, boost__learning_rate=0.3, boost__max_depth=1, boost__min_child_weight=13, boost__reg_lambda=0.5; neg_root_mean_squared_error: (test=-124889.244) r2: (test=0.696) total time=   0.0s\n",
      "[CV 2/5] END boost__gamma=0.5, boost__learning_rate=0.3, boost__max_depth=1, boost__min_child_weight=13, boost__reg_lambda=0.5; neg_root_mean_squared_error: (test=-126116.924) r2: (test=0.850) total time=   0.0s\n",
      "[CV 3/5] END boost__gamma=0.5, boost__learning_rate=0.3, boost__max_depth=1, boost__min_child_weight=13, boost__reg_lambda=0.5; neg_root_mean_squared_error: (test=-98439.322) r2: (test=0.886) total time=   0.0s\n",
      "[CV 4/5] END boost__gamma=0.5, boost__learning_rate=0.3, boost__max_depth=1, boost__min_child_weight=13, boost__reg_lambda=0.5; neg_root_mean_squared_error: (test=-104674.041) r2: (test=0.863) total time=   0.0s\n",
      "[CV 5/5] END boost__gamma=0.5, boost__learning_rate=0.3, boost__max_depth=1, boost__min_child_weight=13, boost__reg_lambda=0.5; neg_root_mean_squared_error: (test=-123101.966) r2: (test=0.811) total time=   0.0s\n",
      "[CV 1/5] END boost__gamma=0.05, boost__learning_rate=1, boost__max_depth=16, boost__min_child_weight=15, boost__reg_lambda=0.1; neg_root_mean_squared_error: (test=-98958.326) r2: (test=0.809) total time=   0.1s\n",
      "[CV 2/5] END boost__gamma=0.05, boost__learning_rate=1, boost__max_depth=16, boost__min_child_weight=15, boost__reg_lambda=0.1; neg_root_mean_squared_error: (test=-122344.420) r2: (test=0.859) total time=   0.1s\n",
      "[CV 3/5] END boost__gamma=0.05, boost__learning_rate=1, boost__max_depth=16, boost__min_child_weight=15, boost__reg_lambda=0.1; neg_root_mean_squared_error: (test=-109066.933) r2: (test=0.860) total time=   0.4s\n",
      "[CV 4/5] END boost__gamma=0.05, boost__learning_rate=1, boost__max_depth=16, boost__min_child_weight=15, boost__reg_lambda=0.1; neg_root_mean_squared_error: (test=-127950.498) r2: (test=0.795) total time=   0.1s\n",
      "[CV 5/5] END boost__gamma=0.05, boost__learning_rate=1, boost__max_depth=16, boost__min_child_weight=15, boost__reg_lambda=0.1; neg_root_mean_squared_error: (test=-159282.739) r2: (test=0.683) total time=   0.1s\n",
      "[CV 1/5] END boost__gamma=0.1, boost__learning_rate=0.001, boost__max_depth=2, boost__min_child_weight=5, boost__reg_lambda=0.1; neg_root_mean_squared_error: (test=-704166.083) r2: (test=-8.673) total time=   0.0s\n",
      "[CV 2/5] END boost__gamma=0.1, boost__learning_rate=0.001, boost__max_depth=2, boost__min_child_weight=5, boost__reg_lambda=0.1; neg_root_mean_squared_error: (test=-752282.673) r2: (test=-4.335) total time=   0.1s\n",
      "[CV 3/5] END boost__gamma=0.1, boost__learning_rate=0.001, boost__max_depth=2, boost__min_child_weight=5, boost__reg_lambda=0.1; neg_root_mean_squared_error: (test=-693448.482) r2: (test=-4.666) total time=   0.0s\n",
      "[CV 4/5] END boost__gamma=0.1, boost__learning_rate=0.001, boost__max_depth=2, boost__min_child_weight=5, boost__reg_lambda=0.1; neg_root_mean_squared_error: (test=-687982.144) r2: (test=-4.922) total time=   0.0s\n",
      "[CV 5/5] END boost__gamma=0.1, boost__learning_rate=0.001, boost__max_depth=2, boost__min_child_weight=5, boost__reg_lambda=0.1; neg_root_mean_squared_error: (test=-726623.239) r2: (test=-5.592) total time=   0.0s\n",
      "[CV 1/5] END boost__gamma=0.1, boost__learning_rate=0.1, boost__max_depth=16, boost__min_child_weight=15, boost__reg_lambda=0.05; neg_root_mean_squared_error: (test=-91229.348) r2: (test=0.838) total time=   0.1s\n"
     ]
    },
    {
     "name": "stdout",
     "output_type": "stream",
     "text": [
      "[CV 2/5] END boost__gamma=0.1, boost__learning_rate=0.1, boost__max_depth=16, boost__min_child_weight=15, boost__reg_lambda=0.05; neg_root_mean_squared_error: (test=-104536.396) r2: (test=0.897) total time=   0.1s\n",
      "[CV 3/5] END boost__gamma=0.1, boost__learning_rate=0.1, boost__max_depth=16, boost__min_child_weight=15, boost__reg_lambda=0.05; neg_root_mean_squared_error: (test=-80212.363) r2: (test=0.924) total time=   0.1s\n",
      "[CV 4/5] END boost__gamma=0.1, boost__learning_rate=0.1, boost__max_depth=16, boost__min_child_weight=15, boost__reg_lambda=0.05; neg_root_mean_squared_error: (test=-108618.555) r2: (test=0.852) total time=   0.1s\n",
      "[CV 5/5] END boost__gamma=0.1, boost__learning_rate=0.1, boost__max_depth=16, boost__min_child_weight=15, boost__reg_lambda=0.05; neg_root_mean_squared_error: (test=-107902.325) r2: (test=0.855) total time=   0.1s\n",
      "[CV 1/5] END boost__gamma=0.5, boost__learning_rate=0.3, boost__max_depth=18, boost__min_child_weight=15, boost__reg_lambda=10; neg_root_mean_squared_error: (test=-105552.874) r2: (test=0.783) total time=   0.1s\n",
      "[CV 2/5] END boost__gamma=0.5, boost__learning_rate=0.3, boost__max_depth=18, boost__min_child_weight=15, boost__reg_lambda=10; neg_root_mean_squared_error: (test=-105510.733) r2: (test=0.895) total time=   0.1s\n",
      "[CV 3/5] END boost__gamma=0.5, boost__learning_rate=0.3, boost__max_depth=18, boost__min_child_weight=15, boost__reg_lambda=10; neg_root_mean_squared_error: (test=-91612.195) r2: (test=0.901) total time=   0.1s\n",
      "[CV 4/5] END boost__gamma=0.5, boost__learning_rate=0.3, boost__max_depth=18, boost__min_child_weight=15, boost__reg_lambda=10; neg_root_mean_squared_error: (test=-102778.870) r2: (test=0.868) total time=   0.1s\n",
      "[CV 5/5] END boost__gamma=0.5, boost__learning_rate=0.3, boost__max_depth=18, boost__min_child_weight=15, boost__reg_lambda=10; neg_root_mean_squared_error: (test=-104181.718) r2: (test=0.864) total time=   0.1s\n",
      "[CV 1/5] END boost__gamma=0.5, boost__learning_rate=0.01, boost__max_depth=7, boost__min_child_weight=3, boost__reg_lambda=0.5; neg_root_mean_squared_error: (test=-286600.775) r2: (test=-0.602) total time=   0.1s\n",
      "[CV 2/5] END boost__gamma=0.5, boost__learning_rate=0.01, boost__max_depth=7, boost__min_child_weight=3, boost__reg_lambda=0.5; neg_root_mean_squared_error: (test=-337918.912) r2: (test=-0.076) total time=   0.1s\n",
      "[CV 3/5] END boost__gamma=0.5, boost__learning_rate=0.01, boost__max_depth=7, boost__min_child_weight=3, boost__reg_lambda=0.5; neg_root_mean_squared_error: (test=-288055.739) r2: (test=0.022) total time=   0.1s\n",
      "[CV 4/5] END boost__gamma=0.5, boost__learning_rate=0.01, boost__max_depth=7, boost__min_child_weight=3, boost__reg_lambda=0.5; neg_root_mean_squared_error: (test=-293220.261) r2: (test=-0.076) total time=   0.1s\n",
      "[CV 5/5] END boost__gamma=0.5, boost__learning_rate=0.01, boost__max_depth=7, boost__min_child_weight=3, boost__reg_lambda=0.5; neg_root_mean_squared_error: (test=-322228.430) r2: (test=-0.296) total time=   0.1s\n",
      "[CV 1/5] END boost__gamma=0, boost__learning_rate=0.05, boost__max_depth=8, boost__min_child_weight=12, boost__reg_lambda=1; neg_root_mean_squared_error: (test=-92819.885) r2: (test=0.832) total time=   0.1s\n",
      "[CV 2/5] END boost__gamma=0, boost__learning_rate=0.05, boost__max_depth=8, boost__min_child_weight=12, boost__reg_lambda=1; neg_root_mean_squared_error: (test=-109100.396) r2: (test=0.888) total time=   0.1s\n",
      "[CV 3/5] END boost__gamma=0, boost__learning_rate=0.05, boost__max_depth=8, boost__min_child_weight=12, boost__reg_lambda=1; neg_root_mean_squared_error: (test=-82344.824) r2: (test=0.920) total time=   0.1s\n",
      "[CV 4/5] END boost__gamma=0, boost__learning_rate=0.05, boost__max_depth=8, boost__min_child_weight=12, boost__reg_lambda=1; neg_root_mean_squared_error: (test=-95778.893) r2: (test=0.885) total time=   0.1s\n",
      "[CV 5/5] END boost__gamma=0, boost__learning_rate=0.05, boost__max_depth=8, boost__min_child_weight=12, boost__reg_lambda=1; neg_root_mean_squared_error: (test=-104192.804) r2: (test=0.864) total time=   0.1s\n",
      "[CV 1/5] END boost__gamma=0.5, boost__learning_rate=0.01, boost__max_depth=7, boost__min_child_weight=7, boost__reg_lambda=0.01; neg_root_mean_squared_error: (test=-281214.226) r2: (test=-0.543) total time=   0.1s\n",
      "[CV 2/5] END boost__gamma=0.5, boost__learning_rate=0.01, boost__max_depth=7, boost__min_child_weight=7, boost__reg_lambda=0.01; neg_root_mean_squared_error: (test=-332470.617) r2: (test=-0.042) total time=   0.1s\n",
      "[CV 3/5] END boost__gamma=0.5, boost__learning_rate=0.01, boost__max_depth=7, boost__min_child_weight=7, boost__reg_lambda=0.01; neg_root_mean_squared_error: (test=-279774.766) r2: (test=0.078) total time=   0.1s\n",
      "[CV 4/5] END boost__gamma=0.5, boost__learning_rate=0.01, boost__max_depth=7, boost__min_child_weight=7, boost__reg_lambda=0.01; neg_root_mean_squared_error: (test=-287724.722) r2: (test=-0.036) total time=   0.1s\n",
      "[CV 5/5] END boost__gamma=0.5, boost__learning_rate=0.01, boost__max_depth=7, boost__min_child_weight=7, boost__reg_lambda=0.01; neg_root_mean_squared_error: (test=-317379.163) r2: (test=-0.258) total time=   0.1s\n",
      "[CV 1/5] END boost__gamma=0.1, boost__learning_rate=0.001, boost__max_depth=19, boost__min_child_weight=20, boost__reg_lambda=5; neg_root_mean_squared_error: (test=-707346.808) r2: (test=-8.760) total time=   0.0s\n",
      "[CV 2/5] END boost__gamma=0.1, boost__learning_rate=0.001, boost__max_depth=19, boost__min_child_weight=20, boost__reg_lambda=5; neg_root_mean_squared_error: (test=-757197.202) r2: (test=-4.405) total time=   0.0s\n",
      "[CV 3/5] END boost__gamma=0.1, boost__learning_rate=0.001, boost__max_depth=19, boost__min_child_weight=20, boost__reg_lambda=5; neg_root_mean_squared_error: (test=-697345.990) r2: (test=-4.730) total time=   0.0s\n",
      "[CV 4/5] END boost__gamma=0.1, boost__learning_rate=0.001, boost__max_depth=19, boost__min_child_weight=20, boost__reg_lambda=5; neg_root_mean_squared_error: (test=-689876.343) r2: (test=-4.955) total time=   0.0s\n",
      "[CV 5/5] END boost__gamma=0.1, boost__learning_rate=0.001, boost__max_depth=19, boost__min_child_weight=20, boost__reg_lambda=5; neg_root_mean_squared_error: (test=-731527.615) r2: (test=-5.681) total time=   0.0s\n",
      "[CV 1/5] END boost__gamma=0.5, boost__learning_rate=0.001, boost__max_depth=10, boost__min_child_weight=11, boost__reg_lambda=10; neg_root_mean_squared_error: (test=-709871.202) r2: (test=-8.830) total time=   0.0s\n",
      "[CV 2/5] END boost__gamma=0.5, boost__learning_rate=0.001, boost__max_depth=10, boost__min_child_weight=11, boost__reg_lambda=10; neg_root_mean_squared_error: (test=-759931.178) r2: (test=-4.444) total time=   0.0s\n",
      "[CV 3/5] END boost__gamma=0.5, boost__learning_rate=0.001, boost__max_depth=10, boost__min_child_weight=11, boost__reg_lambda=10; neg_root_mean_squared_error: (test=-699610.894) r2: (test=-4.767) total time=   0.4s\n",
      "[CV 4/5] END boost__gamma=0.5, boost__learning_rate=0.001, boost__max_depth=10, boost__min_child_weight=11, boost__reg_lambda=10; neg_root_mean_squared_error: (test=-693159.980) r2: (test=-5.011) total time=   0.6s\n",
      "[CV 5/5] END boost__gamma=0.5, boost__learning_rate=0.001, boost__max_depth=10, boost__min_child_weight=11, boost__reg_lambda=10; neg_root_mean_squared_error: (test=-733979.925) r2: (test=-5.726) total time=   0.7s\n",
      "[CV 1/5] END boost__gamma=0.05, boost__learning_rate=0.5, boost__max_depth=7, boost__min_child_weight=6, boost__reg_lambda=0.01; neg_root_mean_squared_error: (test=-112667.287) r2: (test=0.752) total time=   0.1s\n",
      "[CV 2/5] END boost__gamma=0.05, boost__learning_rate=0.5, boost__max_depth=7, boost__min_child_weight=6, boost__reg_lambda=0.01; neg_root_mean_squared_error: (test=-120134.518) r2: (test=0.864) total time=   0.2s\n",
      "[CV 3/5] END boost__gamma=0.05, boost__learning_rate=0.5, boost__max_depth=7, boost__min_child_weight=6, boost__reg_lambda=0.01; neg_root_mean_squared_error: (test=-105844.117) r2: (test=0.868) total time=   0.3s\n",
      "[CV 4/5] END boost__gamma=0.05, boost__learning_rate=0.5, boost__max_depth=7, boost__min_child_weight=6, boost__reg_lambda=0.01; neg_root_mean_squared_error: (test=-99070.158) r2: (test=0.877) total time=   0.1s\n",
      "[CV 5/5] END boost__gamma=0.05, boost__learning_rate=0.5, boost__max_depth=7, boost__min_child_weight=6, boost__reg_lambda=0.01; neg_root_mean_squared_error: (test=-119834.737) r2: (test=0.821) total time=   0.1s\n"
     ]
    },
    {
     "name": "stdout",
     "output_type": "stream",
     "text": [
      "[CV 1/5] END boost__gamma=0.05, boost__learning_rate=0.001, boost__max_depth=10, boost__min_child_weight=18, boost__reg_lambda=10; neg_root_mean_squared_error: (test=-709838.867) r2: (test=-8.829) total time=   0.1s\n",
      "[CV 2/5] END boost__gamma=0.05, boost__learning_rate=0.001, boost__max_depth=10, boost__min_child_weight=18, boost__reg_lambda=10; neg_root_mean_squared_error: (test=-759994.320) r2: (test=-4.445) total time=   0.0s\n",
      "[CV 3/5] END boost__gamma=0.05, boost__learning_rate=0.001, boost__max_depth=10, boost__min_child_weight=18, boost__reg_lambda=10; neg_root_mean_squared_error: (test=-699614.964) r2: (test=-4.767) total time=   0.0s\n",
      "[CV 4/5] END boost__gamma=0.05, boost__learning_rate=0.001, boost__max_depth=10, boost__min_child_weight=18, boost__reg_lambda=10; neg_root_mean_squared_error: (test=-693159.980) r2: (test=-5.011) total time=   0.0s\n",
      "[CV 5/5] END boost__gamma=0.05, boost__learning_rate=0.001, boost__max_depth=10, boost__min_child_weight=18, boost__reg_lambda=10; neg_root_mean_squared_error: (test=-733979.925) r2: (test=-5.726) total time=   0.0s\n",
      "[CV 1/5] END boost__gamma=0.05, boost__learning_rate=0.01, boost__max_depth=3, boost__min_child_weight=3, boost__reg_lambda=0.1; neg_root_mean_squared_error: (test=-287302.373) r2: (test=-0.610) total time=   0.0s\n",
      "[CV 2/5] END boost__gamma=0.05, boost__learning_rate=0.01, boost__max_depth=3, boost__min_child_weight=3, boost__reg_lambda=0.1; neg_root_mean_squared_error: (test=-333833.615) r2: (test=-0.051) total time=   0.1s\n",
      "[CV 3/5] END boost__gamma=0.05, boost__learning_rate=0.01, boost__max_depth=3, boost__min_child_weight=3, boost__reg_lambda=0.1; neg_root_mean_squared_error: (test=-281132.670) r2: (test=0.069) total time=   0.1s\n",
      "[CV 4/5] END boost__gamma=0.05, boost__learning_rate=0.01, boost__max_depth=3, boost__min_child_weight=3, boost__reg_lambda=0.1; neg_root_mean_squared_error: (test=-287609.796) r2: (test=-0.035) total time=   0.0s\n",
      "[CV 5/5] END boost__gamma=0.05, boost__learning_rate=0.01, boost__max_depth=3, boost__min_child_weight=3, boost__reg_lambda=0.1; neg_root_mean_squared_error: (test=-323149.502) r2: (test=-0.304) total time=   0.0s\n",
      "[CV 1/5] END boost__gamma=0.1, boost__learning_rate=0.3, boost__max_depth=17, boost__min_child_weight=12, boost__reg_lambda=1; neg_root_mean_squared_error: (test=-106051.411) r2: (test=0.781) total time=   0.1s\n",
      "[CV 2/5] END boost__gamma=0.1, boost__learning_rate=0.3, boost__max_depth=17, boost__min_child_weight=12, boost__reg_lambda=1; neg_root_mean_squared_error: (test=-114487.600) r2: (test=0.876) total time=   0.1s\n",
      "[CV 3/5] END boost__gamma=0.1, boost__learning_rate=0.3, boost__max_depth=17, boost__min_child_weight=12, boost__reg_lambda=1; neg_root_mean_squared_error: (test=-91404.490) r2: (test=0.902) total time=   0.1s\n",
      "[CV 4/5] END boost__gamma=0.1, boost__learning_rate=0.3, boost__max_depth=17, boost__min_child_weight=12, boost__reg_lambda=1; neg_root_mean_squared_error: (test=-112378.096) r2: (test=0.842) total time=   0.1s\n",
      "[CV 5/5] END boost__gamma=0.1, boost__learning_rate=0.3, boost__max_depth=17, boost__min_child_weight=12, boost__reg_lambda=1; neg_root_mean_squared_error: (test=-107290.448) r2: (test=0.856) total time=   0.1s\n",
      "[CV 1/5] END boost__gamma=0.01, boost__learning_rate=1, boost__max_depth=9, boost__min_child_weight=20, boost__reg_lambda=0.01; neg_root_mean_squared_error: (test=-100650.932) r2: (test=0.802) total time=   0.1s\n",
      "[CV 2/5] END boost__gamma=0.01, boost__learning_rate=1, boost__max_depth=9, boost__min_child_weight=20, boost__reg_lambda=0.01; neg_root_mean_squared_error: (test=-125793.613) r2: (test=0.851) total time=   0.1s\n",
      "[CV 3/5] END boost__gamma=0.01, boost__learning_rate=1, boost__max_depth=9, boost__min_child_weight=20, boost__reg_lambda=0.01; neg_root_mean_squared_error: (test=-106167.007) r2: (test=0.867) total time=   0.1s\n",
      "[CV 4/5] END boost__gamma=0.01, boost__learning_rate=1, boost__max_depth=9, boost__min_child_weight=20, boost__reg_lambda=0.01; neg_root_mean_squared_error: (test=-124210.290) r2: (test=0.807) total time=   0.1s\n",
      "[CV 5/5] END boost__gamma=0.01, boost__learning_rate=1, boost__max_depth=9, boost__min_child_weight=20, boost__reg_lambda=0.01; neg_root_mean_squared_error: (test=-131252.802) r2: (test=0.785) total time=   0.1s\n",
      "[CV 1/5] END boost__gamma=0.01, boost__learning_rate=0.05, boost__max_depth=13, boost__min_child_weight=13, boost__reg_lambda=10; neg_root_mean_squared_error: (test=-96528.251) r2: (test=0.818) total time=   0.1s\n",
      "[CV 2/5] END boost__gamma=0.01, boost__learning_rate=0.05, boost__max_depth=13, boost__min_child_weight=13, boost__reg_lambda=10; neg_root_mean_squared_error: (test=-121926.083) r2: (test=0.860) total time=   0.0s\n",
      "[CV 3/5] END boost__gamma=0.01, boost__learning_rate=0.05, boost__max_depth=13, boost__min_child_weight=13, boost__reg_lambda=10; neg_root_mean_squared_error: (test=-83236.857) r2: (test=0.918) total time=   0.1s\n",
      "[CV 4/5] END boost__gamma=0.01, boost__learning_rate=0.05, boost__max_depth=13, boost__min_child_weight=13, boost__reg_lambda=10; neg_root_mean_squared_error: (test=-91965.809) r2: (test=0.894) total time=   0.1s\n",
      "[CV 5/5] END boost__gamma=0.01, boost__learning_rate=0.05, boost__max_depth=13, boost__min_child_weight=13, boost__reg_lambda=10; neg_root_mean_squared_error: (test=-111487.424) r2: (test=0.845) total time=   0.1s\n",
      "[CV 1/5] END boost__gamma=1, boost__learning_rate=0.3, boost__max_depth=8, boost__min_child_weight=15, boost__reg_lambda=0.5; neg_root_mean_squared_error: (test=-104824.232) r2: (test=0.786) total time=   0.1s\n",
      "[CV 2/5] END boost__gamma=1, boost__learning_rate=0.3, boost__max_depth=8, boost__min_child_weight=15, boost__reg_lambda=0.5; neg_root_mean_squared_error: (test=-112967.822) r2: (test=0.880) total time=   0.1s\n",
      "[CV 3/5] END boost__gamma=1, boost__learning_rate=0.3, boost__max_depth=8, boost__min_child_weight=15, boost__reg_lambda=0.5; neg_root_mean_squared_error: (test=-87906.433) r2: (test=0.909) total time=   0.1s\n",
      "[CV 4/5] END boost__gamma=1, boost__learning_rate=0.3, boost__max_depth=8, boost__min_child_weight=15, boost__reg_lambda=0.5; neg_root_mean_squared_error: (test=-121486.626) r2: (test=0.815) total time=   0.1s\n",
      "[CV 5/5] END boost__gamma=1, boost__learning_rate=0.3, boost__max_depth=8, boost__min_child_weight=15, boost__reg_lambda=0.5; neg_root_mean_squared_error: (test=-104936.752) r2: (test=0.863) total time=   0.1s\n",
      "[CV 1/5] END boost__gamma=1, boost__learning_rate=0.3, boost__max_depth=16, boost__min_child_weight=3, boost__reg_lambda=0.5; neg_root_mean_squared_error: (test=-112024.924) r2: (test=0.755) total time=   0.1s\n",
      "[CV 2/5] END boost__gamma=1, boost__learning_rate=0.3, boost__max_depth=16, boost__min_child_weight=3, boost__reg_lambda=0.5; neg_root_mean_squared_error: (test=-115229.138) r2: (test=0.875) total time=   0.1s\n",
      "[CV 3/5] END boost__gamma=1, boost__learning_rate=0.3, boost__max_depth=16, boost__min_child_weight=3, boost__reg_lambda=0.5; neg_root_mean_squared_error: (test=-105330.979) r2: (test=0.869) total time=   0.1s\n",
      "[CV 4/5] END boost__gamma=1, boost__learning_rate=0.3, boost__max_depth=16, boost__min_child_weight=3, boost__reg_lambda=0.5; neg_root_mean_squared_error: (test=-101315.147) r2: (test=0.872) total time=   0.1s\n",
      "[CV 5/5] END boost__gamma=1, boost__learning_rate=0.3, boost__max_depth=16, boost__min_child_weight=3, boost__reg_lambda=0.5; neg_root_mean_squared_error: (test=-120054.095) r2: (test=0.820) total time=   0.1s\n",
      "[CV 1/5] END boost__gamma=0, boost__learning_rate=0.05, boost__max_depth=19, boost__min_child_weight=11, boost__reg_lambda=0.5; neg_root_mean_squared_error: (test=-92001.926) r2: (test=0.835) total time=   0.1s\n",
      "[CV 2/5] END boost__gamma=0, boost__learning_rate=0.05, boost__max_depth=19, boost__min_child_weight=11, boost__reg_lambda=0.5; neg_root_mean_squared_error: (test=-108638.791) r2: (test=0.889) total time=   0.1s\n",
      "[CV 3/5] END boost__gamma=0, boost__learning_rate=0.05, boost__max_depth=19, boost__min_child_weight=11, boost__reg_lambda=0.5; neg_root_mean_squared_error: (test=-80616.387) r2: (test=0.923) total time=   0.1s\n",
      "[CV 4/5] END boost__gamma=0, boost__learning_rate=0.05, boost__max_depth=19, boost__min_child_weight=11, boost__reg_lambda=0.5; neg_root_mean_squared_error: (test=-93059.114) r2: (test=0.892) total time=   0.1s\n",
      "[CV 5/5] END boost__gamma=0, boost__learning_rate=0.05, boost__max_depth=19, boost__min_child_weight=11, boost__reg_lambda=0.5; neg_root_mean_squared_error: (test=-106744.057) r2: (test=0.858) total time=   0.1s\n",
      "[CV 1/5] END boost__gamma=1, boost__learning_rate=0.5, boost__max_depth=2, boost__min_child_weight=15, boost__reg_lambda=10; neg_root_mean_squared_error: (test=-105708.256) r2: (test=0.782) total time=   0.0s\n",
      "[CV 2/5] END boost__gamma=1, boost__learning_rate=0.5, boost__max_depth=2, boost__min_child_weight=15, boost__reg_lambda=10; neg_root_mean_squared_error: (test=-108545.998) r2: (test=0.889) total time=   0.0s\n"
     ]
    },
    {
     "name": "stdout",
     "output_type": "stream",
     "text": [
      "[CV 3/5] END boost__gamma=1, boost__learning_rate=0.5, boost__max_depth=2, boost__min_child_weight=15, boost__reg_lambda=10; neg_root_mean_squared_error: (test=-93555.357) r2: (test=0.897) total time=   0.1s\n",
      "[CV 4/5] END boost__gamma=1, boost__learning_rate=0.5, boost__max_depth=2, boost__min_child_weight=15, boost__reg_lambda=10; neg_root_mean_squared_error: (test=-99437.971) r2: (test=0.876) total time=   0.0s\n",
      "[CV 5/5] END boost__gamma=1, boost__learning_rate=0.5, boost__max_depth=2, boost__min_child_weight=15, boost__reg_lambda=10; neg_root_mean_squared_error: (test=-109816.476) r2: (test=0.849) total time=   0.0s\n",
      "[CV 1/5] END boost__gamma=0.5, boost__learning_rate=0.01, boost__max_depth=1, boost__min_child_weight=17, boost__reg_lambda=0.5; neg_root_mean_squared_error: (test=-309378.138) r2: (test=-0.867) total time=   0.0s\n",
      "[CV 2/5] END boost__gamma=0.5, boost__learning_rate=0.01, boost__max_depth=1, boost__min_child_weight=17, boost__reg_lambda=0.5; neg_root_mean_squared_error: (test=-379931.708) r2: (test=-0.361) total time=   0.0s\n",
      "[CV 3/5] END boost__gamma=0.5, boost__learning_rate=0.01, boost__max_depth=1, boost__min_child_weight=17, boost__reg_lambda=0.5; neg_root_mean_squared_error: (test=-322033.593) r2: (test=-0.222) total time=   0.0s\n",
      "[CV 4/5] END boost__gamma=0.5, boost__learning_rate=0.01, boost__max_depth=1, boost__min_child_weight=17, boost__reg_lambda=0.5; neg_root_mean_squared_error: (test=-309472.143) r2: (test=-0.198) total time=   0.0s\n",
      "[CV 5/5] END boost__gamma=0.5, boost__learning_rate=0.01, boost__max_depth=1, boost__min_child_weight=17, boost__reg_lambda=0.5; neg_root_mean_squared_error: (test=-353397.284) r2: (test=-0.559) total time=   0.0s\n",
      "[CV 1/5] END boost__gamma=0.05, boost__learning_rate=0.5, boost__max_depth=10, boost__min_child_weight=18, boost__reg_lambda=0; neg_root_mean_squared_error: (test=-90004.534) r2: (test=0.842) total time=   0.1s\n",
      "[CV 2/5] END boost__gamma=0.05, boost__learning_rate=0.5, boost__max_depth=10, boost__min_child_weight=18, boost__reg_lambda=0; neg_root_mean_squared_error: (test=-106910.676) r2: (test=0.892) total time=   0.1s\n",
      "[CV 3/5] END boost__gamma=0.05, boost__learning_rate=0.5, boost__max_depth=10, boost__min_child_weight=18, boost__reg_lambda=0; neg_root_mean_squared_error: (test=-93327.258) r2: (test=0.897) total time=   0.1s\n",
      "[CV 4/5] END boost__gamma=0.05, boost__learning_rate=0.5, boost__max_depth=10, boost__min_child_weight=18, boost__reg_lambda=0; neg_root_mean_squared_error: (test=-113866.734) r2: (test=0.838) total time=   0.1s\n",
      "[CV 5/5] END boost__gamma=0.05, boost__learning_rate=0.5, boost__max_depth=10, boost__min_child_weight=18, boost__reg_lambda=0; neg_root_mean_squared_error: (test=-123330.404) r2: (test=0.810) total time=   0.1s\n",
      "[CV 1/5] END boost__gamma=1, boost__learning_rate=0.01, boost__max_depth=11, boost__min_child_weight=3, boost__reg_lambda=0; neg_root_mean_squared_error: (test=-288106.483) r2: (test=-0.619) total time=   0.1s\n",
      "[CV 2/5] END boost__gamma=1, boost__learning_rate=0.01, boost__max_depth=11, boost__min_child_weight=3, boost__reg_lambda=0; neg_root_mean_squared_error: (test=-328053.089) r2: (test=-0.015) total time=   0.1s\n",
      "[CV 3/5] END boost__gamma=1, boost__learning_rate=0.01, boost__max_depth=11, boost__min_child_weight=3, boost__reg_lambda=0; neg_root_mean_squared_error: (test=-272759.982) r2: (test=0.123) total time=   0.1s\n",
      "[CV 4/5] END boost__gamma=1, boost__learning_rate=0.01, boost__max_depth=11, boost__min_child_weight=3, boost__reg_lambda=0; neg_root_mean_squared_error: (test=-285101.274) r2: (test=-0.017) total time=   0.1s\n",
      "[CV 5/5] END boost__gamma=1, boost__learning_rate=0.01, boost__max_depth=11, boost__min_child_weight=3, boost__reg_lambda=0; neg_root_mean_squared_error: (test=-321153.077) r2: (test=-0.288) total time=   0.1s\n",
      "[CV 1/5] END boost__gamma=0.01, boost__learning_rate=0.05, boost__max_depth=14, boost__min_child_weight=16, boost__reg_lambda=0; neg_root_mean_squared_error: (test=-90917.309) r2: (test=0.839) total time=   0.1s\n",
      "[CV 2/5] END boost__gamma=0.01, boost__learning_rate=0.05, boost__max_depth=14, boost__min_child_weight=16, boost__reg_lambda=0; neg_root_mean_squared_error: (test=-109117.718) r2: (test=0.888) total time=   0.1s\n",
      "[CV 3/5] END boost__gamma=0.01, boost__learning_rate=0.05, boost__max_depth=14, boost__min_child_weight=16, boost__reg_lambda=0; neg_root_mean_squared_error: (test=-78032.307) r2: (test=0.928) total time=   0.1s\n",
      "[CV 4/5] END boost__gamma=0.01, boost__learning_rate=0.05, boost__max_depth=14, boost__min_child_weight=16, boost__reg_lambda=0; neg_root_mean_squared_error: (test=-93774.823) r2: (test=0.890) total time=   0.1s\n",
      "[CV 5/5] END boost__gamma=0.01, boost__learning_rate=0.05, boost__max_depth=14, boost__min_child_weight=16, boost__reg_lambda=0; neg_root_mean_squared_error: (test=-108790.578) r2: (test=0.852) total time=   0.1s\n",
      "[CV 1/5] END boost__gamma=0, boost__learning_rate=0.3, boost__max_depth=14, boost__min_child_weight=7, boost__reg_lambda=1; neg_root_mean_squared_error: (test=-100852.503) r2: (test=0.802) total time=   0.1s\n",
      "[CV 2/5] END boost__gamma=0, boost__learning_rate=0.3, boost__max_depth=14, boost__min_child_weight=7, boost__reg_lambda=1; neg_root_mean_squared_error: (test=-126813.933) r2: (test=0.848) total time=   0.1s\n",
      "[CV 3/5] END boost__gamma=0, boost__learning_rate=0.3, boost__max_depth=14, boost__min_child_weight=7, boost__reg_lambda=1; neg_root_mean_squared_error: (test=-98810.379) r2: (test=0.885) total time=   0.1s\n",
      "[CV 4/5] END boost__gamma=0, boost__learning_rate=0.3, boost__max_depth=14, boost__min_child_weight=7, boost__reg_lambda=1; neg_root_mean_squared_error: (test=-92527.141) r2: (test=0.893) total time=   0.1s\n",
      "[CV 5/5] END boost__gamma=0, boost__learning_rate=0.3, boost__max_depth=14, boost__min_child_weight=7, boost__reg_lambda=1; neg_root_mean_squared_error: (test=-102915.120) r2: (test=0.868) total time=   0.1s\n",
      "[CV 1/5] END boost__gamma=0.1, boost__learning_rate=0.1, boost__max_depth=9, boost__min_child_weight=6, boost__reg_lambda=0.5; neg_root_mean_squared_error: (test=-111400.303) r2: (test=0.758) total time=   0.2s\n",
      "[CV 2/5] END boost__gamma=0.1, boost__learning_rate=0.1, boost__max_depth=9, boost__min_child_weight=6, boost__reg_lambda=0.5; neg_root_mean_squared_error: (test=-113969.201) r2: (test=0.878) total time=   0.3s\n",
      "[CV 3/5] END boost__gamma=0.1, boost__learning_rate=0.1, boost__max_depth=9, boost__min_child_weight=6, boost__reg_lambda=0.5; neg_root_mean_squared_error: (test=-89142.585) r2: (test=0.906) total time=   0.1s\n",
      "[CV 4/5] END boost__gamma=0.1, boost__learning_rate=0.1, boost__max_depth=9, boost__min_child_weight=6, boost__reg_lambda=0.5; neg_root_mean_squared_error: (test=-93590.601) r2: (test=0.890) total time=   0.1s\n",
      "[CV 5/5] END boost__gamma=0.1, boost__learning_rate=0.1, boost__max_depth=9, boost__min_child_weight=6, boost__reg_lambda=0.5; neg_root_mean_squared_error: (test=-104424.602) r2: (test=0.864) total time=   0.1s\n",
      "[CV 1/5] END boost__gamma=0, boost__learning_rate=0.05, boost__max_depth=3, boost__min_child_weight=4, boost__reg_lambda=0.5; neg_root_mean_squared_error: (test=-97562.844) r2: (test=0.814) total time=   0.0s\n",
      "[CV 2/5] END boost__gamma=0, boost__learning_rate=0.05, boost__max_depth=3, boost__min_child_weight=4, boost__reg_lambda=0.5; neg_root_mean_squared_error: (test=-104067.538) r2: (test=0.898) total time=   0.1s\n",
      "[CV 3/5] END boost__gamma=0, boost__learning_rate=0.05, boost__max_depth=3, boost__min_child_weight=4, boost__reg_lambda=0.5; neg_root_mean_squared_error: (test=-84938.786) r2: (test=0.915) total time=   0.1s\n",
      "[CV 4/5] END boost__gamma=0, boost__learning_rate=0.05, boost__max_depth=3, boost__min_child_weight=4, boost__reg_lambda=0.5; neg_root_mean_squared_error: (test=-90535.770) r2: (test=0.897) total time=   0.1s\n",
      "[CV 5/5] END boost__gamma=0, boost__learning_rate=0.05, boost__max_depth=3, boost__min_child_weight=4, boost__reg_lambda=0.5; neg_root_mean_squared_error: (test=-105414.996) r2: (test=0.861) total time=   0.0s\n",
      "[CV 1/5] END boost__gamma=0.01, boost__learning_rate=0.5, boost__max_depth=1, boost__min_child_weight=5, boost__reg_lambda=5; neg_root_mean_squared_error: (test=-136990.875) r2: (test=0.634) total time=   0.0s\n",
      "[CV 2/5] END boost__gamma=0.01, boost__learning_rate=0.5, boost__max_depth=1, boost__min_child_weight=5, boost__reg_lambda=5; neg_root_mean_squared_error: (test=-120482.878) r2: (test=0.863) total time=   0.0s\n"
     ]
    },
    {
     "name": "stdout",
     "output_type": "stream",
     "text": [
      "[CV 3/5] END boost__gamma=0.01, boost__learning_rate=0.5, boost__max_depth=1, boost__min_child_weight=5, boost__reg_lambda=5; neg_root_mean_squared_error: (test=-115002.436) r2: (test=0.844) total time=   0.0s\n",
      "[CV 4/5] END boost__gamma=0.01, boost__learning_rate=0.5, boost__max_depth=1, boost__min_child_weight=5, boost__reg_lambda=5; neg_root_mean_squared_error: (test=-108177.375) r2: (test=0.854) total time=   0.0s\n",
      "[CV 5/5] END boost__gamma=0.01, boost__learning_rate=0.5, boost__max_depth=1, boost__min_child_weight=5, boost__reg_lambda=5; neg_root_mean_squared_error: (test=-118315.393) r2: (test=0.825) total time=   0.1s\n",
      "[CV 1/5] END boost__gamma=1, boost__learning_rate=0.3, boost__max_depth=18, boost__min_child_weight=10, boost__reg_lambda=0; neg_root_mean_squared_error: (test=-89440.417) r2: (test=0.844) total time=   2.2s\n",
      "[CV 2/5] END boost__gamma=1, boost__learning_rate=0.3, boost__max_depth=18, boost__min_child_weight=10, boost__reg_lambda=0; neg_root_mean_squared_error: (test=-113485.142) r2: (test=0.879) total time=   0.3s\n",
      "[CV 3/5] END boost__gamma=1, boost__learning_rate=0.3, boost__max_depth=18, boost__min_child_weight=10, boost__reg_lambda=0; neg_root_mean_squared_error: (test=-96367.908) r2: (test=0.891) total time=   0.1s\n",
      "[CV 4/5] END boost__gamma=1, boost__learning_rate=0.3, boost__max_depth=18, boost__min_child_weight=10, boost__reg_lambda=0; neg_root_mean_squared_error: (test=-114801.973) r2: (test=0.835) total time=   0.1s\n",
      "[CV 5/5] END boost__gamma=1, boost__learning_rate=0.3, boost__max_depth=18, boost__min_child_weight=10, boost__reg_lambda=0; neg_root_mean_squared_error: (test=-111894.090) r2: (test=0.844) total time=   0.1s\n",
      "[CV 1/5] END boost__gamma=0.1, boost__learning_rate=0.005, boost__max_depth=11, boost__min_child_weight=4, boost__reg_lambda=1; neg_root_mean_squared_error: (test=-470597.616) r2: (test=-3.320) total time=   0.3s\n",
      "[CV 2/5] END boost__gamma=0.1, boost__learning_rate=0.005, boost__max_depth=11, boost__min_child_weight=4, boost__reg_lambda=1; neg_root_mean_squared_error: (test=-530255.580) r2: (test=-1.651) total time=   0.0s\n",
      "[CV 3/5] END boost__gamma=0.1, boost__learning_rate=0.005, boost__max_depth=11, boost__min_child_weight=4, boost__reg_lambda=1; neg_root_mean_squared_error: (test=-473329.238) r2: (test=-1.640) total time=   0.0s\n",
      "[CV 4/5] END boost__gamma=0.1, boost__learning_rate=0.005, boost__max_depth=11, boost__min_child_weight=4, boost__reg_lambda=1; neg_root_mean_squared_error: (test=-468304.007) r2: (test=-1.744) total time=   0.1s\n",
      "[CV 5/5] END boost__gamma=0.1, boost__learning_rate=0.005, boost__max_depth=11, boost__min_child_weight=4, boost__reg_lambda=1; neg_root_mean_squared_error: (test=-502764.954) r2: (test=-2.156) total time=   0.3s\n",
      "[CV 1/5] END boost__gamma=0.5, boost__learning_rate=1, boost__max_depth=7, boost__min_child_weight=4, boost__reg_lambda=0.01; neg_root_mean_squared_error: (test=-147973.660) r2: (test=0.573) total time=   0.2s\n",
      "[CV 2/5] END boost__gamma=0.5, boost__learning_rate=1, boost__max_depth=7, boost__min_child_weight=4, boost__reg_lambda=0.01; neg_root_mean_squared_error: (test=-115072.410) r2: (test=0.875) total time=   0.1s\n",
      "[CV 3/5] END boost__gamma=0.5, boost__learning_rate=1, boost__max_depth=7, boost__min_child_weight=4, boost__reg_lambda=0.01; neg_root_mean_squared_error: (test=-116746.032) r2: (test=0.839) total time=   0.3s\n",
      "[CV 4/5] END boost__gamma=0.5, boost__learning_rate=1, boost__max_depth=7, boost__min_child_weight=4, boost__reg_lambda=0.01; neg_root_mean_squared_error: (test=-117841.904) r2: (test=0.826) total time=   0.1s\n",
      "[CV 5/5] END boost__gamma=0.5, boost__learning_rate=1, boost__max_depth=7, boost__min_child_weight=4, boost__reg_lambda=0.01; neg_root_mean_squared_error: (test=-152410.005) r2: (test=0.710) total time=   0.1s\n",
      "[CV 1/5] END boost__gamma=0.05, boost__learning_rate=0.005, boost__max_depth=17, boost__min_child_weight=10, boost__reg_lambda=0.01; neg_root_mean_squared_error: (test=-468526.957) r2: (test=-3.282) total time=   0.2s\n",
      "[CV 2/5] END boost__gamma=0.05, boost__learning_rate=0.005, boost__max_depth=17, boost__min_child_weight=10, boost__reg_lambda=0.01; neg_root_mean_squared_error: (test=-519336.423) r2: (test=-1.543) total time=   1.1s\n",
      "[CV 3/5] END boost__gamma=0.05, boost__learning_rate=0.005, boost__max_depth=17, boost__min_child_weight=10, boost__reg_lambda=0.01; neg_root_mean_squared_error: (test=-461296.537) r2: (test=-1.507) total time=   0.3s\n",
      "[CV 4/5] END boost__gamma=0.05, boost__learning_rate=0.005, boost__max_depth=17, boost__min_child_weight=10, boost__reg_lambda=0.01; neg_root_mean_squared_error: (test=-466244.408) r2: (test=-1.720) total time=   0.6s\n",
      "[CV 5/5] END boost__gamma=0.05, boost__learning_rate=0.005, boost__max_depth=17, boost__min_child_weight=10, boost__reg_lambda=0.01; neg_root_mean_squared_error: (test=-494836.375) r2: (test=-2.057) total time=   0.5s\n",
      "[CV 1/5] END boost__gamma=0, boost__learning_rate=0.3, boost__max_depth=14, boost__min_child_weight=19, boost__reg_lambda=0.05; neg_root_mean_squared_error: (test=-93482.276) r2: (test=0.830) total time=   0.9s\n",
      "[CV 2/5] END boost__gamma=0, boost__learning_rate=0.3, boost__max_depth=14, boost__min_child_weight=19, boost__reg_lambda=0.05; neg_root_mean_squared_error: (test=-108121.953) r2: (test=0.890) total time=   0.8s\n",
      "[CV 3/5] END boost__gamma=0, boost__learning_rate=0.3, boost__max_depth=14, boost__min_child_weight=19, boost__reg_lambda=0.05; neg_root_mean_squared_error: (test=-86655.449) r2: (test=0.912) total time=   0.1s\n",
      "[CV 4/5] END boost__gamma=0, boost__learning_rate=0.3, boost__max_depth=14, boost__min_child_weight=19, boost__reg_lambda=0.05; neg_root_mean_squared_error: (test=-105244.357) r2: (test=0.861) total time=   0.2s\n",
      "[CV 5/5] END boost__gamma=0, boost__learning_rate=0.3, boost__max_depth=14, boost__min_child_weight=19, boost__reg_lambda=0.05; neg_root_mean_squared_error: (test=-109157.802) r2: (test=0.851) total time=   0.1s\n",
      "[CV 1/5] END boost__gamma=0.1, boost__learning_rate=1, boost__max_depth=6, boost__min_child_weight=19, boost__reg_lambda=0; neg_root_mean_squared_error: (test=-103958.140) r2: (test=0.789) total time=   0.1s\n",
      "[CV 2/5] END boost__gamma=0.1, boost__learning_rate=1, boost__max_depth=6, boost__min_child_weight=19, boost__reg_lambda=0; neg_root_mean_squared_error: (test=-121270.091) r2: (test=0.861) total time=   0.1s\n",
      "[CV 3/5] END boost__gamma=0.1, boost__learning_rate=1, boost__max_depth=6, boost__min_child_weight=19, boost__reg_lambda=0; neg_root_mean_squared_error: (test=-101273.269) r2: (test=0.879) total time=   0.4s\n",
      "[CV 4/5] END boost__gamma=0.1, boost__learning_rate=1, boost__max_depth=6, boost__min_child_weight=19, boost__reg_lambda=0; neg_root_mean_squared_error: (test=-131686.764) r2: (test=0.783) total time=   0.1s\n",
      "[CV 5/5] END boost__gamma=0.1, boost__learning_rate=1, boost__max_depth=6, boost__min_child_weight=19, boost__reg_lambda=0; neg_root_mean_squared_error: (test=-128027.056) r2: (test=0.795) total time=   0.2s\n",
      "[CV 1/5] END boost__gamma=0.1, boost__learning_rate=0.01, boost__max_depth=12, boost__min_child_weight=1, boost__reg_lambda=0.05; neg_root_mean_squared_error: (test=-287354.193) r2: (test=-0.611) total time=   0.7s\n",
      "[CV 2/5] END boost__gamma=0.1, boost__learning_rate=0.01, boost__max_depth=12, boost__min_child_weight=1, boost__reg_lambda=0.05; neg_root_mean_squared_error: (test=-336512.409) r2: (test=-0.068) total time=   0.1s\n",
      "[CV 3/5] END boost__gamma=0.1, boost__learning_rate=0.01, boost__max_depth=12, boost__min_child_weight=1, boost__reg_lambda=0.05; neg_root_mean_squared_error: (test=-280380.342) r2: (test=0.074) total time=   0.2s\n",
      "[CV 4/5] END boost__gamma=0.1, boost__learning_rate=0.01, boost__max_depth=12, boost__min_child_weight=1, boost__reg_lambda=0.05; neg_root_mean_squared_error: (test=-288340.480) r2: (test=-0.040) total time=   0.3s\n",
      "[CV 5/5] END boost__gamma=0.1, boost__learning_rate=0.01, boost__max_depth=12, boost__min_child_weight=1, boost__reg_lambda=0.05; neg_root_mean_squared_error: (test=-327700.573) r2: (test=-0.341) total time=   0.1s\n",
      "[CV 1/5] END boost__gamma=0.5, boost__learning_rate=1, boost__max_depth=16, boost__min_child_weight=7, boost__reg_lambda=5; neg_root_mean_squared_error: (test=-112035.912) r2: (test=0.755) total time=   0.1s\n"
     ]
    },
    {
     "name": "stdout",
     "output_type": "stream",
     "text": [
      "[CV 2/5] END boost__gamma=0.5, boost__learning_rate=1, boost__max_depth=16, boost__min_child_weight=7, boost__reg_lambda=5; neg_root_mean_squared_error: (test=-143980.952) r2: (test=0.805) total time=   0.2s\n",
      "[CV 3/5] END boost__gamma=0.5, boost__learning_rate=1, boost__max_depth=16, boost__min_child_weight=7, boost__reg_lambda=5; neg_root_mean_squared_error: (test=-120474.857) r2: (test=0.829) total time=   0.3s\n",
      "[CV 4/5] END boost__gamma=0.5, boost__learning_rate=1, boost__max_depth=16, boost__min_child_weight=7, boost__reg_lambda=5; neg_root_mean_squared_error: (test=-116021.559) r2: (test=0.832) total time=   0.3s\n",
      "[CV 5/5] END boost__gamma=0.5, boost__learning_rate=1, boost__max_depth=16, boost__min_child_weight=7, boost__reg_lambda=5; neg_root_mean_squared_error: (test=-104239.349) r2: (test=0.864) total time=   0.1s\n",
      "[CV 1/5] END boost__gamma=1, boost__learning_rate=0.005, boost__max_depth=13, boost__min_child_weight=13, boost__reg_lambda=0.1; neg_root_mean_squared_error: (test=-468084.974) r2: (test=-3.274) total time=   0.1s\n",
      "[CV 2/5] END boost__gamma=1, boost__learning_rate=0.005, boost__max_depth=13, boost__min_child_weight=13, boost__reg_lambda=0.1; neg_root_mean_squared_error: (test=-519899.894) r2: (test=-1.548) total time=   0.1s\n",
      "[CV 3/5] END boost__gamma=1, boost__learning_rate=0.005, boost__max_depth=13, boost__min_child_weight=13, boost__reg_lambda=0.1; neg_root_mean_squared_error: (test=-464422.873) r2: (test=-1.541) total time=   0.1s\n",
      "[CV 4/5] END boost__gamma=1, boost__learning_rate=0.005, boost__max_depth=13, boost__min_child_weight=13, boost__reg_lambda=0.1; neg_root_mean_squared_error: (test=-465490.445) r2: (test=-1.711) total time=   0.1s\n",
      "[CV 5/5] END boost__gamma=1, boost__learning_rate=0.005, boost__max_depth=13, boost__min_child_weight=13, boost__reg_lambda=0.1; neg_root_mean_squared_error: (test=-495777.947) r2: (test=-2.069) total time=   0.1s\n",
      "[CV 1/5] END boost__gamma=0.05, boost__learning_rate=0.001, boost__max_depth=19, boost__min_child_weight=2, boost__reg_lambda=10; neg_root_mean_squared_error: (test=-709925.091) r2: (test=-8.832) total time=   0.1s\n",
      "[CV 2/5] END boost__gamma=0.05, boost__learning_rate=0.001, boost__max_depth=19, boost__min_child_weight=2, boost__reg_lambda=10; neg_root_mean_squared_error: (test=-759874.547) r2: (test=-4.443) total time=   0.1s\n",
      "[CV 3/5] END boost__gamma=0.05, boost__learning_rate=0.001, boost__max_depth=19, boost__min_child_weight=2, boost__reg_lambda=10; neg_root_mean_squared_error: (test=-699614.276) r2: (test=-4.767) total time=   0.1s\n",
      "[CV 4/5] END boost__gamma=0.05, boost__learning_rate=0.001, boost__max_depth=19, boost__min_child_weight=2, boost__reg_lambda=10; neg_root_mean_squared_error: (test=-693155.379) r2: (test=-5.011) total time=   0.1s\n",
      "[CV 5/5] END boost__gamma=0.05, boost__learning_rate=0.001, boost__max_depth=19, boost__min_child_weight=2, boost__reg_lambda=10; neg_root_mean_squared_error: (test=-734001.175) r2: (test=-5.726) total time=   0.1s\n",
      "[CV 1/5] END boost__gamma=0.01, boost__learning_rate=0.05, boost__max_depth=2, boost__min_child_weight=2, boost__reg_lambda=10; neg_root_mean_squared_error: (test=-104423.734) r2: (test=0.787) total time=   0.3s\n",
      "[CV 2/5] END boost__gamma=0.01, boost__learning_rate=0.05, boost__max_depth=2, boost__min_child_weight=2, boost__reg_lambda=10; neg_root_mean_squared_error: (test=-124909.535) r2: (test=0.853) total time=   0.1s\n",
      "[CV 3/5] END boost__gamma=0.01, boost__learning_rate=0.05, boost__max_depth=2, boost__min_child_weight=2, boost__reg_lambda=10; neg_root_mean_squared_error: (test=-87934.795) r2: (test=0.909) total time=   0.0s\n",
      "[CV 4/5] END boost__gamma=0.01, boost__learning_rate=0.05, boost__max_depth=2, boost__min_child_weight=2, boost__reg_lambda=10; neg_root_mean_squared_error: (test=-109611.375) r2: (test=0.850) total time=   0.0s\n",
      "[CV 5/5] END boost__gamma=0.01, boost__learning_rate=0.05, boost__max_depth=2, boost__min_child_weight=2, boost__reg_lambda=10; neg_root_mean_squared_error: (test=-114076.178) r2: (test=0.838) total time=   0.0s\n",
      "[CV 1/5] END boost__gamma=1, boost__learning_rate=0.001, boost__max_depth=11, boost__min_child_weight=3, boost__reg_lambda=0.5; neg_root_mean_squared_error: (test=-703051.300) r2: (test=-8.642) total time=   0.1s\n",
      "[CV 2/5] END boost__gamma=1, boost__learning_rate=0.001, boost__max_depth=11, boost__min_child_weight=3, boost__reg_lambda=0.5; neg_root_mean_squared_error: (test=-752179.363) r2: (test=-4.334) total time=   0.0s\n",
      "[CV 3/5] END boost__gamma=1, boost__learning_rate=0.001, boost__max_depth=11, boost__min_child_weight=3, boost__reg_lambda=0.5; neg_root_mean_squared_error: (test=-693763.607) r2: (test=-4.671) total time=   0.0s\n",
      "[CV 4/5] END boost__gamma=1, boost__learning_rate=0.001, boost__max_depth=11, boost__min_child_weight=3, boost__reg_lambda=0.5; neg_root_mean_squared_error: (test=-689080.641) r2: (test=-4.941) total time=   0.1s\n",
      "[CV 5/5] END boost__gamma=1, boost__learning_rate=0.001, boost__max_depth=11, boost__min_child_weight=3, boost__reg_lambda=0.5; neg_root_mean_squared_error: (test=-725703.818) r2: (test=-5.575) total time=   0.1s\n",
      "[CV 1/5] END boost__gamma=0.5, boost__learning_rate=1, boost__max_depth=19, boost__min_child_weight=18, boost__reg_lambda=0.05; neg_root_mean_squared_error: (test=-108081.379) r2: (test=0.772) total time=   0.1s\n",
      "[CV 2/5] END boost__gamma=0.5, boost__learning_rate=1, boost__max_depth=19, boost__min_child_weight=18, boost__reg_lambda=0.05; neg_root_mean_squared_error: (test=-121066.561) r2: (test=0.862) total time=   0.1s\n",
      "[CV 3/5] END boost__gamma=0.5, boost__learning_rate=1, boost__max_depth=19, boost__min_child_weight=18, boost__reg_lambda=0.05; neg_root_mean_squared_error: (test=-124042.840) r2: (test=0.819) total time=   0.1s\n",
      "[CV 4/5] END boost__gamma=0.5, boost__learning_rate=1, boost__max_depth=19, boost__min_child_weight=18, boost__reg_lambda=0.05; neg_root_mean_squared_error: (test=-126805.946) r2: (test=0.799) total time=   0.1s\n",
      "[CV 5/5] END boost__gamma=0.5, boost__learning_rate=1, boost__max_depth=19, boost__min_child_weight=18, boost__reg_lambda=0.05; neg_root_mean_squared_error: (test=-134951.015) r2: (test=0.773) total time=   0.1s\n",
      "[CV 1/5] END boost__gamma=0.01, boost__learning_rate=0.01, boost__max_depth=11, boost__min_child_weight=10, boost__reg_lambda=0.1; neg_root_mean_squared_error: (test=-285656.867) r2: (test=-0.592) total time=   0.1s\n",
      "[CV 2/5] END boost__gamma=0.01, boost__learning_rate=0.01, boost__max_depth=11, boost__min_child_weight=10, boost__reg_lambda=0.1; neg_root_mean_squared_error: (test=-335699.890) r2: (test=-0.062) total time=   0.1s\n",
      "[CV 3/5] END boost__gamma=0.01, boost__learning_rate=0.01, boost__max_depth=11, boost__min_child_weight=10, boost__reg_lambda=0.1; neg_root_mean_squared_error: (test=-279679.618) r2: (test=0.078) total time=   0.1s\n",
      "[CV 4/5] END boost__gamma=0.01, boost__learning_rate=0.01, boost__max_depth=11, boost__min_child_weight=10, boost__reg_lambda=0.1; neg_root_mean_squared_error: (test=-293140.205) r2: (test=-0.075) total time=   0.1s\n",
      "[CV 5/5] END boost__gamma=0.01, boost__learning_rate=0.01, boost__max_depth=11, boost__min_child_weight=10, boost__reg_lambda=0.1; neg_root_mean_squared_error: (test=-317745.178) r2: (test=-0.261) total time=   0.1s\n",
      "[CV 1/5] END boost__gamma=0.01, boost__learning_rate=0.5, boost__max_depth=5, boost__min_child_weight=15, boost__reg_lambda=1; neg_root_mean_squared_error: (test=-88741.784) r2: (test=0.846) total time=   0.0s\n",
      "[CV 2/5] END boost__gamma=0.01, boost__learning_rate=0.5, boost__max_depth=5, boost__min_child_weight=15, boost__reg_lambda=1; neg_root_mean_squared_error: (test=-115872.884) r2: (test=0.873) total time=   0.0s\n",
      "[CV 3/5] END boost__gamma=0.01, boost__learning_rate=0.5, boost__max_depth=5, boost__min_child_weight=15, boost__reg_lambda=1; neg_root_mean_squared_error: (test=-98267.812) r2: (test=0.886) total time=   0.0s\n",
      "[CV 4/5] END boost__gamma=0.01, boost__learning_rate=0.5, boost__max_depth=5, boost__min_child_weight=15, boost__reg_lambda=1; neg_root_mean_squared_error: (test=-116841.871) r2: (test=0.829) total time=   0.1s\n",
      "[CV 5/5] END boost__gamma=0.01, boost__learning_rate=0.5, boost__max_depth=5, boost__min_child_weight=15, boost__reg_lambda=1; neg_root_mean_squared_error: (test=-109923.881) r2: (test=0.849) total time=   0.1s\n"
     ]
    },
    {
     "name": "stdout",
     "output_type": "stream",
     "text": [
      "[CV 1/5] END boost__gamma=0.5, boost__learning_rate=0.05, boost__max_depth=15, boost__min_child_weight=3, boost__reg_lambda=0.5; neg_root_mean_squared_error: (test=-95564.562) r2: (test=0.822) total time=   0.1s\n",
      "[CV 2/5] END boost__gamma=0.5, boost__learning_rate=0.05, boost__max_depth=15, boost__min_child_weight=3, boost__reg_lambda=0.5; neg_root_mean_squared_error: (test=-107962.231) r2: (test=0.890) total time=   0.1s\n",
      "[CV 3/5] END boost__gamma=0.5, boost__learning_rate=0.05, boost__max_depth=15, boost__min_child_weight=3, boost__reg_lambda=0.5; neg_root_mean_squared_error: (test=-94999.905) r2: (test=0.894) total time=   0.1s\n",
      "[CV 4/5] END boost__gamma=0.5, boost__learning_rate=0.05, boost__max_depth=15, boost__min_child_weight=3, boost__reg_lambda=0.5; neg_root_mean_squared_error: (test=-93591.152) r2: (test=0.890) total time=   0.1s\n",
      "[CV 5/5] END boost__gamma=0.5, boost__learning_rate=0.05, boost__max_depth=15, boost__min_child_weight=3, boost__reg_lambda=0.5; neg_root_mean_squared_error: (test=-117226.843) r2: (test=0.828) total time=   0.1s\n",
      "[CV 1/5] END boost__gamma=0.5, boost__learning_rate=0.01, boost__max_depth=7, boost__min_child_weight=20, boost__reg_lambda=1; neg_root_mean_squared_error: (test=-290120.543) r2: (test=-0.642) total time=   0.1s\n",
      "[CV 2/5] END boost__gamma=0.5, boost__learning_rate=0.01, boost__max_depth=7, boost__min_child_weight=20, boost__reg_lambda=1; neg_root_mean_squared_error: (test=-353525.516) r2: (test=-0.178) total time=   0.0s\n",
      "[CV 3/5] END boost__gamma=0.5, boost__learning_rate=0.01, boost__max_depth=7, boost__min_child_weight=20, boost__reg_lambda=1; neg_root_mean_squared_error: (test=-293650.701) r2: (test=-0.016) total time=   0.1s\n",
      "[CV 4/5] END boost__gamma=0.5, boost__learning_rate=0.01, boost__max_depth=7, boost__min_child_weight=20, boost__reg_lambda=1; neg_root_mean_squared_error: (test=-296313.736) r2: (test=-0.099) total time=   0.0s\n",
      "[CV 5/5] END boost__gamma=0.5, boost__learning_rate=0.01, boost__max_depth=7, boost__min_child_weight=20, boost__reg_lambda=1; neg_root_mean_squared_error: (test=-327235.804) r2: (test=-0.337) total time=   0.0s\n",
      "[CV 1/5] END boost__gamma=0, boost__learning_rate=0.3, boost__max_depth=9, boost__min_child_weight=11, boost__reg_lambda=0.1; neg_root_mean_squared_error: (test=-93075.487) r2: (test=0.831) total time=   0.1s\n",
      "[CV 2/5] END boost__gamma=0, boost__learning_rate=0.3, boost__max_depth=9, boost__min_child_weight=11, boost__reg_lambda=0.1; neg_root_mean_squared_error: (test=-113981.665) r2: (test=0.878) total time=   0.1s\n",
      "[CV 3/5] END boost__gamma=0, boost__learning_rate=0.3, boost__max_depth=9, boost__min_child_weight=11, boost__reg_lambda=0.1; neg_root_mean_squared_error: (test=-97631.934) r2: (test=0.888) total time=   0.1s\n",
      "[CV 4/5] END boost__gamma=0, boost__learning_rate=0.3, boost__max_depth=9, boost__min_child_weight=11, boost__reg_lambda=0.1; neg_root_mean_squared_error: (test=-120204.240) r2: (test=0.819) total time=   0.1s\n",
      "[CV 5/5] END boost__gamma=0, boost__learning_rate=0.3, boost__max_depth=9, boost__min_child_weight=11, boost__reg_lambda=0.1; neg_root_mean_squared_error: (test=-114656.043) r2: (test=0.836) total time=   0.1s\n",
      "[CV 1/5] END boost__gamma=0.5, boost__learning_rate=0.001, boost__max_depth=5, boost__min_child_weight=2, boost__reg_lambda=1; neg_root_mean_squared_error: (test=-703365.953) r2: (test=-8.651) total time=   0.1s\n",
      "[CV 2/5] END boost__gamma=0.5, boost__learning_rate=0.001, boost__max_depth=5, boost__min_child_weight=2, boost__reg_lambda=1; neg_root_mean_squared_error: (test=-754258.086) r2: (test=-4.363) total time=   0.0s\n",
      "[CV 3/5] END boost__gamma=0.5, boost__learning_rate=0.001, boost__max_depth=5, boost__min_child_weight=2, boost__reg_lambda=1; neg_root_mean_squared_error: (test=-694745.580) r2: (test=-4.687) total time=   0.0s\n",
      "[CV 4/5] END boost__gamma=0.5, boost__learning_rate=0.001, boost__max_depth=5, boost__min_child_weight=2, boost__reg_lambda=1; neg_root_mean_squared_error: (test=-688307.405) r2: (test=-4.927) total time=   0.1s\n",
      "[CV 5/5] END boost__gamma=0.5, boost__learning_rate=0.001, boost__max_depth=5, boost__min_child_weight=2, boost__reg_lambda=1; neg_root_mean_squared_error: (test=-727217.380) r2: (test=-5.603) total time=   0.1s\n",
      "[CV 1/5] END boost__gamma=0.01, boost__learning_rate=0.01, boost__max_depth=13, boost__min_child_weight=18, boost__reg_lambda=1; neg_root_mean_squared_error: (test=-291736.073) r2: (test=-0.660) total time=   0.1s\n",
      "[CV 2/5] END boost__gamma=0.01, boost__learning_rate=0.01, boost__max_depth=13, boost__min_child_weight=18, boost__reg_lambda=1; neg_root_mean_squared_error: (test=-352643.139) r2: (test=-0.172) total time=   0.1s\n",
      "[CV 3/5] END boost__gamma=0.01, boost__learning_rate=0.01, boost__max_depth=13, boost__min_child_weight=18, boost__reg_lambda=1; neg_root_mean_squared_error: (test=-293031.556) r2: (test=-0.012) total time=   0.0s\n",
      "[CV 4/5] END boost__gamma=0.01, boost__learning_rate=0.01, boost__max_depth=13, boost__min_child_weight=18, boost__reg_lambda=1; neg_root_mean_squared_error: (test=-296010.316) r2: (test=-0.096) total time=   0.0s\n",
      "[CV 5/5] END boost__gamma=0.01, boost__learning_rate=0.01, boost__max_depth=13, boost__min_child_weight=18, boost__reg_lambda=1; neg_root_mean_squared_error: (test=-324227.717) r2: (test=-0.312) total time=   0.0s\n",
      "[CV 1/5] END boost__gamma=0.5, boost__learning_rate=0.001, boost__max_depth=5, boost__min_child_weight=9, boost__reg_lambda=0.05; neg_root_mean_squared_error: (test=-702061.835) r2: (test=-8.615) total time=   0.0s\n",
      "[CV 2/5] END boost__gamma=0.5, boost__learning_rate=0.001, boost__max_depth=5, boost__min_child_weight=9, boost__reg_lambda=0.05; neg_root_mean_squared_error: (test=-750942.872) r2: (test=-4.316) total time=   0.1s\n",
      "[CV 3/5] END boost__gamma=0.5, boost__learning_rate=0.001, boost__max_depth=5, boost__min_child_weight=9, boost__reg_lambda=0.05; neg_root_mean_squared_error: (test=-691796.667) r2: (test=-4.639) total time=   0.1s\n",
      "[CV 4/5] END boost__gamma=0.5, boost__learning_rate=0.001, boost__max_depth=5, boost__min_child_weight=9, boost__reg_lambda=0.05; neg_root_mean_squared_error: (test=-688639.830) r2: (test=-4.933) total time=   0.1s\n",
      "[CV 5/5] END boost__gamma=0.5, boost__learning_rate=0.001, boost__max_depth=5, boost__min_child_weight=9, boost__reg_lambda=0.05; neg_root_mean_squared_error: (test=-724903.104) r2: (test=-5.561) total time=   0.1s\n",
      "[CV 1/5] END boost__gamma=0.01, boost__learning_rate=0.001, boost__max_depth=1, boost__min_child_weight=16, boost__reg_lambda=10; neg_root_mean_squared_error: (test=-710379.186) r2: (test=-8.844) total time=   0.0s\n",
      "[CV 2/5] END boost__gamma=0.01, boost__learning_rate=0.001, boost__max_depth=1, boost__min_child_weight=16, boost__reg_lambda=10; neg_root_mean_squared_error: (test=-761700.333) r2: (test=-4.470) total time=   0.0s\n",
      "[CV 3/5] END boost__gamma=0.01, boost__learning_rate=0.001, boost__max_depth=1, boost__min_child_weight=16, boost__reg_lambda=10; neg_root_mean_squared_error: (test=-700486.651) r2: (test=-4.781) total time=   0.0s\n",
      "[CV 4/5] END boost__gamma=0.01, boost__learning_rate=0.001, boost__max_depth=1, boost__min_child_weight=16, boost__reg_lambda=10; neg_root_mean_squared_error: (test=-693473.941) r2: (test=-5.017) total time=   0.0s\n",
      "[CV 5/5] END boost__gamma=0.01, boost__learning_rate=0.001, boost__max_depth=1, boost__min_child_weight=16, boost__reg_lambda=10; neg_root_mean_squared_error: (test=-733019.634) r2: (test=-5.708) total time=   0.0s\n",
      "[CV 1/5] END boost__gamma=0, boost__learning_rate=1, boost__max_depth=7, boost__min_child_weight=15, boost__reg_lambda=0.1; neg_root_mean_squared_error: (test=-111504.766) r2: (test=0.757) total time=   0.1s\n",
      "[CV 2/5] END boost__gamma=0, boost__learning_rate=1, boost__max_depth=7, boost__min_child_weight=15, boost__reg_lambda=0.1; neg_root_mean_squared_error: (test=-132770.581) r2: (test=0.834) total time=   0.1s\n",
      "[CV 3/5] END boost__gamma=0, boost__learning_rate=1, boost__max_depth=7, boost__min_child_weight=15, boost__reg_lambda=0.1; neg_root_mean_squared_error: (test=-103959.463) r2: (test=0.873) total time=   0.1s\n",
      "[CV 4/5] END boost__gamma=0, boost__learning_rate=1, boost__max_depth=7, boost__min_child_weight=15, boost__reg_lambda=0.1; neg_root_mean_squared_error: (test=-145433.846) r2: (test=0.735) total time=   0.1s\n",
      "[CV 5/5] END boost__gamma=0, boost__learning_rate=1, boost__max_depth=7, boost__min_child_weight=15, boost__reg_lambda=0.1; neg_root_mean_squared_error: (test=-148369.670) r2: (test=0.725) total time=   0.1s\n",
      "[CV 1/5] END boost__gamma=1, boost__learning_rate=0.3, boost__max_depth=20, boost__min_child_weight=15, boost__reg_lambda=5; neg_root_mean_squared_error: (test=-99397.837) r2: (test=0.807) total time=   0.1s\n"
     ]
    },
    {
     "name": "stdout",
     "output_type": "stream",
     "text": [
      "[CV 2/5] END boost__gamma=1, boost__learning_rate=0.3, boost__max_depth=20, boost__min_child_weight=15, boost__reg_lambda=5; neg_root_mean_squared_error: (test=-112043.559) r2: (test=0.882) total time=   0.1s\n",
      "[CV 3/5] END boost__gamma=1, boost__learning_rate=0.3, boost__max_depth=20, boost__min_child_weight=15, boost__reg_lambda=5; neg_root_mean_squared_error: (test=-85420.361) r2: (test=0.914) total time=   0.1s\n",
      "[CV 4/5] END boost__gamma=1, boost__learning_rate=0.3, boost__max_depth=20, boost__min_child_weight=15, boost__reg_lambda=5; neg_root_mean_squared_error: (test=-101570.451) r2: (test=0.871) total time=   0.1s\n",
      "[CV 5/5] END boost__gamma=1, boost__learning_rate=0.3, boost__max_depth=20, boost__min_child_weight=15, boost__reg_lambda=5; neg_root_mean_squared_error: (test=-101399.560) r2: (test=0.872) total time=   0.1s\n",
      "[CV 1/5] END boost__gamma=1, boost__learning_rate=0.001, boost__max_depth=18, boost__min_child_weight=14, boost__reg_lambda=0.1; neg_root_mean_squared_error: (test=-701919.003) r2: (test=-8.611) total time=   0.1s\n",
      "[CV 2/5] END boost__gamma=1, boost__learning_rate=0.001, boost__max_depth=18, boost__min_child_weight=14, boost__reg_lambda=0.1; neg_root_mean_squared_error: (test=-750689.964) r2: (test=-4.313) total time=   0.1s\n",
      "[CV 3/5] END boost__gamma=1, boost__learning_rate=0.001, boost__max_depth=18, boost__min_child_weight=14, boost__reg_lambda=0.1; neg_root_mean_squared_error: (test=-692220.162) r2: (test=-4.646) total time=   0.1s\n",
      "[CV 4/5] END boost__gamma=1, boost__learning_rate=0.001, boost__max_depth=18, boost__min_child_weight=14, boost__reg_lambda=0.1; neg_root_mean_squared_error: (test=-687889.245) r2: (test=-4.920) total time=   0.1s\n",
      "[CV 5/5] END boost__gamma=1, boost__learning_rate=0.001, boost__max_depth=18, boost__min_child_weight=14, boost__reg_lambda=0.1; neg_root_mean_squared_error: (test=-725119.568) r2: (test=-5.565) total time=   0.1s\n",
      "[CV 1/5] END boost__gamma=1, boost__learning_rate=1, boost__max_depth=11, boost__min_child_weight=9, boost__reg_lambda=0.1; neg_root_mean_squared_error: (test=-97357.918) r2: (test=0.815) total time=   0.1s\n",
      "[CV 2/5] END boost__gamma=1, boost__learning_rate=1, boost__max_depth=11, boost__min_child_weight=9, boost__reg_lambda=0.1; neg_root_mean_squared_error: (test=-115902.316) r2: (test=0.873) total time=   0.1s\n",
      "[CV 3/5] END boost__gamma=1, boost__learning_rate=1, boost__max_depth=11, boost__min_child_weight=9, boost__reg_lambda=0.1; neg_root_mean_squared_error: (test=-111621.581) r2: (test=0.853) total time=   0.1s\n",
      "[CV 4/5] END boost__gamma=1, boost__learning_rate=1, boost__max_depth=11, boost__min_child_weight=9, boost__reg_lambda=0.1; neg_root_mean_squared_error: (test=-152437.135) r2: (test=0.709) total time=   0.1s\n",
      "[CV 5/5] END boost__gamma=1, boost__learning_rate=1, boost__max_depth=11, boost__min_child_weight=9, boost__reg_lambda=0.1; neg_root_mean_squared_error: (test=-152797.108) r2: (test=0.709) total time=   0.1s\n",
      "[CV 1/5] END boost__gamma=1, boost__learning_rate=0.005, boost__max_depth=19, boost__min_child_weight=5, boost__reg_lambda=0.01; neg_root_mean_squared_error: (test=-469040.778) r2: (test=-3.292) total time=   0.1s\n",
      "[CV 2/5] END boost__gamma=1, boost__learning_rate=0.005, boost__max_depth=19, boost__min_child_weight=5, boost__reg_lambda=0.01; neg_root_mean_squared_error: (test=-517312.626) r2: (test=-1.523) total time=   0.1s\n",
      "[CV 3/5] END boost__gamma=1, boost__learning_rate=0.005, boost__max_depth=19, boost__min_child_weight=5, boost__reg_lambda=0.01; neg_root_mean_squared_error: (test=-461122.974) r2: (test=-1.505) total time=   0.1s\n",
      "[CV 4/5] END boost__gamma=1, boost__learning_rate=0.005, boost__max_depth=19, boost__min_child_weight=5, boost__reg_lambda=0.01; neg_root_mean_squared_error: (test=-462640.742) r2: (test=-1.678) total time=   0.1s\n",
      "[CV 5/5] END boost__gamma=1, boost__learning_rate=0.005, boost__max_depth=19, boost__min_child_weight=5, boost__reg_lambda=0.01; neg_root_mean_squared_error: (test=-494966.164) r2: (test=-2.059) total time=   0.1s\n",
      "[CV 1/5] END boost__gamma=0, boost__learning_rate=0.01, boost__max_depth=7, boost__min_child_weight=5, boost__reg_lambda=0; neg_root_mean_squared_error: (test=-284193.769) r2: (test=-0.576) total time=   0.1s\n",
      "[CV 2/5] END boost__gamma=0, boost__learning_rate=0.01, boost__max_depth=7, boost__min_child_weight=5, boost__reg_lambda=0; neg_root_mean_squared_error: (test=-333169.367) r2: (test=-0.046) total time=   0.1s\n",
      "[CV 3/5] END boost__gamma=0, boost__learning_rate=0.01, boost__max_depth=7, boost__min_child_weight=5, boost__reg_lambda=0; neg_root_mean_squared_error: (test=-280205.278) r2: (test=0.075) total time=   0.1s\n",
      "[CV 4/5] END boost__gamma=0, boost__learning_rate=0.01, boost__max_depth=7, boost__min_child_weight=5, boost__reg_lambda=0; neg_root_mean_squared_error: (test=-284336.640) r2: (test=-0.012) total time=   0.1s\n",
      "[CV 5/5] END boost__gamma=0, boost__learning_rate=0.01, boost__max_depth=7, boost__min_child_weight=5, boost__reg_lambda=0; neg_root_mean_squared_error: (test=-318430.278) r2: (test=-0.266) total time=   0.1s\n",
      "[CV 1/5] END boost__gamma=0.5, boost__learning_rate=0.5, boost__max_depth=5, boost__min_child_weight=7, boost__reg_lambda=0.01; neg_root_mean_squared_error: (test=-111564.973) r2: (test=0.757) total time=   0.1s\n",
      "[CV 2/5] END boost__gamma=0.5, boost__learning_rate=0.5, boost__max_depth=5, boost__min_child_weight=7, boost__reg_lambda=0.01; neg_root_mean_squared_error: (test=-118131.582) r2: (test=0.868) total time=   0.1s\n",
      "[CV 3/5] END boost__gamma=0.5, boost__learning_rate=0.5, boost__max_depth=5, boost__min_child_weight=7, boost__reg_lambda=0.01; neg_root_mean_squared_error: (test=-109591.383) r2: (test=0.858) total time=   0.1s\n",
      "[CV 4/5] END boost__gamma=0.5, boost__learning_rate=0.5, boost__max_depth=5, boost__min_child_weight=7, boost__reg_lambda=0.01; neg_root_mean_squared_error: (test=-94222.175) r2: (test=0.889) total time=   0.1s\n",
      "[CV 5/5] END boost__gamma=0.5, boost__learning_rate=0.5, boost__max_depth=5, boost__min_child_weight=7, boost__reg_lambda=0.01; neg_root_mean_squared_error: (test=-123675.040) r2: (test=0.809) total time=   0.1s\n",
      "[CV 1/5] END boost__gamma=0.05, boost__learning_rate=0.3, boost__max_depth=7, boost__min_child_weight=14, boost__reg_lambda=0; neg_root_mean_squared_error: (test=-97079.022) r2: (test=0.816) total time=   0.1s\n",
      "[CV 2/5] END boost__gamma=0.05, boost__learning_rate=0.3, boost__max_depth=7, boost__min_child_weight=14, boost__reg_lambda=0; neg_root_mean_squared_error: (test=-111835.841) r2: (test=0.882) total time=   0.1s\n",
      "[CV 3/5] END boost__gamma=0.05, boost__learning_rate=0.3, boost__max_depth=7, boost__min_child_weight=14, boost__reg_lambda=0; neg_root_mean_squared_error: (test=-85411.246) r2: (test=0.914) total time=   0.1s\n",
      "[CV 4/5] END boost__gamma=0.05, boost__learning_rate=0.3, boost__max_depth=7, boost__min_child_weight=14, boost__reg_lambda=0; neg_root_mean_squared_error: (test=-110646.951) r2: (test=0.847) total time=   0.1s\n",
      "[CV 5/5] END boost__gamma=0.05, boost__learning_rate=0.3, boost__max_depth=7, boost__min_child_weight=14, boost__reg_lambda=0; neg_root_mean_squared_error: (test=-115818.848) r2: (test=0.833) total time=   0.1s\n",
      "[CV 1/5] END boost__gamma=0.5, boost__learning_rate=0.1, boost__max_depth=16, boost__min_child_weight=2, boost__reg_lambda=1; neg_root_mean_squared_error: (test=-102629.909) r2: (test=0.795) total time=   0.1s\n",
      "[CV 2/5] END boost__gamma=0.5, boost__learning_rate=0.1, boost__max_depth=16, boost__min_child_weight=2, boost__reg_lambda=1; neg_root_mean_squared_error: (test=-113975.425) r2: (test=0.878) total time=   0.1s\n",
      "[CV 3/5] END boost__gamma=0.5, boost__learning_rate=0.1, boost__max_depth=16, boost__min_child_weight=2, boost__reg_lambda=1; neg_root_mean_squared_error: (test=-100164.679) r2: (test=0.882) total time=   0.1s\n",
      "[CV 4/5] END boost__gamma=0.5, boost__learning_rate=0.1, boost__max_depth=16, boost__min_child_weight=2, boost__reg_lambda=1; neg_root_mean_squared_error: (test=-93292.007) r2: (test=0.891) total time=   0.1s\n",
      "[CV 5/5] END boost__gamma=0.5, boost__learning_rate=0.1, boost__max_depth=16, boost__min_child_weight=2, boost__reg_lambda=1; neg_root_mean_squared_error: (test=-120534.361) r2: (test=0.819) total time=   0.1s\n"
     ]
    },
    {
     "name": "stdout",
     "output_type": "stream",
     "text": [
      "[CV 1/5] END boost__gamma=0.5, boost__learning_rate=0.3, boost__max_depth=12, boost__min_child_weight=6, boost__reg_lambda=0.1; neg_root_mean_squared_error: (test=-108490.071) r2: (test=0.770) total time=   0.1s\n",
      "[CV 2/5] END boost__gamma=0.5, boost__learning_rate=0.3, boost__max_depth=12, boost__min_child_weight=6, boost__reg_lambda=0.1; neg_root_mean_squared_error: (test=-119068.914) r2: (test=0.866) total time=   0.1s\n",
      "[CV 3/5] END boost__gamma=0.5, boost__learning_rate=0.3, boost__max_depth=12, boost__min_child_weight=6, boost__reg_lambda=0.1; neg_root_mean_squared_error: (test=-94565.298) r2: (test=0.895) total time=   0.1s\n",
      "[CV 4/5] END boost__gamma=0.5, boost__learning_rate=0.3, boost__max_depth=12, boost__min_child_weight=6, boost__reg_lambda=0.1; neg_root_mean_squared_error: (test=-100964.932) r2: (test=0.872) total time=   0.1s\n",
      "[CV 5/5] END boost__gamma=0.5, boost__learning_rate=0.3, boost__max_depth=12, boost__min_child_weight=6, boost__reg_lambda=0.1; neg_root_mean_squared_error: (test=-106518.139) r2: (test=0.858) total time=   0.1s\n",
      "[CV 1/5] END boost__gamma=0.1, boost__learning_rate=0.5, boost__max_depth=9, boost__min_child_weight=3, boost__reg_lambda=0.01; neg_root_mean_squared_error: (test=-111841.542) r2: (test=0.756) total time=   0.1s\n",
      "[CV 2/5] END boost__gamma=0.1, boost__learning_rate=0.5, boost__max_depth=9, boost__min_child_weight=3, boost__reg_lambda=0.01; neg_root_mean_squared_error: (test=-109527.082) r2: (test=0.887) total time=   0.1s\n",
      "[CV 3/5] END boost__gamma=0.1, boost__learning_rate=0.5, boost__max_depth=9, boost__min_child_weight=3, boost__reg_lambda=0.01; neg_root_mean_squared_error: (test=-113752.509) r2: (test=0.848) total time=   0.1s\n",
      "[CV 4/5] END boost__gamma=0.1, boost__learning_rate=0.5, boost__max_depth=9, boost__min_child_weight=3, boost__reg_lambda=0.01; neg_root_mean_squared_error: (test=-89329.255) r2: (test=0.900) total time=   0.1s\n",
      "[CV 5/5] END boost__gamma=0.1, boost__learning_rate=0.5, boost__max_depth=9, boost__min_child_weight=3, boost__reg_lambda=0.01; neg_root_mean_squared_error: (test=-132944.155) r2: (test=0.779) total time=   0.1s\n",
      "[CV 1/5] END boost__gamma=0.05, boost__learning_rate=0.5, boost__max_depth=3, boost__min_child_weight=3, boost__reg_lambda=0.5; neg_root_mean_squared_error: (test=-115455.181) r2: (test=0.740) total time=   0.0s\n",
      "[CV 2/5] END boost__gamma=0.05, boost__learning_rate=0.5, boost__max_depth=3, boost__min_child_weight=3, boost__reg_lambda=0.5; neg_root_mean_squared_error: (test=-117296.641) r2: (test=0.870) total time=   0.0s\n",
      "[CV 3/5] END boost__gamma=0.05, boost__learning_rate=0.5, boost__max_depth=3, boost__min_child_weight=3, boost__reg_lambda=0.5; neg_root_mean_squared_error: (test=-114602.641) r2: (test=0.845) total time=   0.1s\n",
      "[CV 4/5] END boost__gamma=0.05, boost__learning_rate=0.5, boost__max_depth=3, boost__min_child_weight=3, boost__reg_lambda=0.5; neg_root_mean_squared_error: (test=-103360.272) r2: (test=0.866) total time=   0.0s\n",
      "[CV 5/5] END boost__gamma=0.05, boost__learning_rate=0.5, boost__max_depth=3, boost__min_child_weight=3, boost__reg_lambda=0.5; neg_root_mean_squared_error: (test=-115422.200) r2: (test=0.834) total time=   0.0s\n",
      "[CV 1/5] END boost__gamma=0.05, boost__learning_rate=0.005, boost__max_depth=11, boost__min_child_weight=11, boost__reg_lambda=1; neg_root_mean_squared_error: (test=-471406.931) r2: (test=-3.335) total time=   0.1s\n",
      "[CV 2/5] END boost__gamma=0.05, boost__learning_rate=0.005, boost__max_depth=11, boost__min_child_weight=11, boost__reg_lambda=1; neg_root_mean_squared_error: (test=-531062.299) r2: (test=-1.659) total time=   0.1s\n",
      "[CV 3/5] END boost__gamma=0.05, boost__learning_rate=0.005, boost__max_depth=11, boost__min_child_weight=11, boost__reg_lambda=1; neg_root_mean_squared_error: (test=-473043.776) r2: (test=-1.637) total time=   0.1s\n",
      "[CV 4/5] END boost__gamma=0.05, boost__learning_rate=0.005, boost__max_depth=11, boost__min_child_weight=11, boost__reg_lambda=1; neg_root_mean_squared_error: (test=-468878.347) r2: (test=-1.751) total time=   0.1s\n",
      "[CV 5/5] END boost__gamma=0.05, boost__learning_rate=0.005, boost__max_depth=11, boost__min_child_weight=11, boost__reg_lambda=1; neg_root_mean_squared_error: (test=-502335.550) r2: (test=-2.150) total time=   0.0s\n",
      "[CV 1/5] END boost__gamma=0, boost__learning_rate=0.3, boost__max_depth=3, boost__min_child_weight=4, boost__reg_lambda=0; neg_root_mean_squared_error: (test=-97478.972) r2: (test=0.815) total time=   0.0s\n",
      "[CV 2/5] END boost__gamma=0, boost__learning_rate=0.3, boost__max_depth=3, boost__min_child_weight=4, boost__reg_lambda=0; neg_root_mean_squared_error: (test=-108373.057) r2: (test=0.889) total time=   0.1s\n",
      "[CV 3/5] END boost__gamma=0, boost__learning_rate=0.3, boost__max_depth=3, boost__min_child_weight=4, boost__reg_lambda=0; neg_root_mean_squared_error: (test=-95431.165) r2: (test=0.893) total time=   0.0s\n",
      "[CV 4/5] END boost__gamma=0, boost__learning_rate=0.3, boost__max_depth=3, boost__min_child_weight=4, boost__reg_lambda=0; neg_root_mean_squared_error: (test=-100713.243) r2: (test=0.873) total time=   0.0s\n",
      "[CV 5/5] END boost__gamma=0, boost__learning_rate=0.3, boost__max_depth=3, boost__min_child_weight=4, boost__reg_lambda=0; neg_root_mean_squared_error: (test=-104872.958) r2: (test=0.863) total time=   0.0s\n",
      "[CV 1/5] END boost__gamma=0.01, boost__learning_rate=0.01, boost__max_depth=3, boost__min_child_weight=10, boost__reg_lambda=1; neg_root_mean_squared_error: (test=-290633.695) r2: (test=-0.648) total time=   0.1s\n",
      "[CV 2/5] END boost__gamma=0.01, boost__learning_rate=0.01, boost__max_depth=3, boost__min_child_weight=10, boost__reg_lambda=1; neg_root_mean_squared_error: (test=-347818.208) r2: (test=-0.140) total time=   0.0s\n",
      "[CV 3/5] END boost__gamma=0.01, boost__learning_rate=0.01, boost__max_depth=3, boost__min_child_weight=10, boost__reg_lambda=1; neg_root_mean_squared_error: (test=-291590.876) r2: (test=-0.002) total time=   0.0s\n",
      "[CV 4/5] END boost__gamma=0.01, boost__learning_rate=0.01, boost__max_depth=3, boost__min_child_weight=10, boost__reg_lambda=1; neg_root_mean_squared_error: (test=-295151.329) r2: (test=-0.090) total time=   0.0s\n",
      "[CV 5/5] END boost__gamma=0.01, boost__learning_rate=0.01, boost__max_depth=3, boost__min_child_weight=10, boost__reg_lambda=1; neg_root_mean_squared_error: (test=-328805.102) r2: (test=-0.350) total time=   0.2s\n",
      "[CV 1/5] END boost__gamma=1, boost__learning_rate=0.001, boost__max_depth=13, boost__min_child_weight=6, boost__reg_lambda=0.1; neg_root_mean_squared_error: (test=-702137.588) r2: (test=-8.617) total time=   0.1s\n",
      "[CV 2/5] END boost__gamma=1, boost__learning_rate=0.001, boost__max_depth=13, boost__min_child_weight=6, boost__reg_lambda=0.1; neg_root_mean_squared_error: (test=-751160.102) r2: (test=-4.319) total time=   0.1s\n",
      "[CV 3/5] END boost__gamma=1, boost__learning_rate=0.001, boost__max_depth=13, boost__min_child_weight=6, boost__reg_lambda=0.1; neg_root_mean_squared_error: (test=-691352.238) r2: (test=-4.632) total time=   0.1s\n",
      "[CV 4/5] END boost__gamma=1, boost__learning_rate=0.001, boost__max_depth=13, boost__min_child_weight=6, boost__reg_lambda=0.1; neg_root_mean_squared_error: (test=-688635.530) r2: (test=-4.933) total time=   0.1s\n",
      "[CV 5/5] END boost__gamma=1, boost__learning_rate=0.001, boost__max_depth=13, boost__min_child_weight=6, boost__reg_lambda=0.1; neg_root_mean_squared_error: (test=-724649.041) r2: (test=-5.556) total time=   0.1s\n",
      "[CV 1/5] END boost__gamma=0.1, boost__learning_rate=1, boost__max_depth=4, boost__min_child_weight=17, boost__reg_lambda=0.01; neg_root_mean_squared_error: (test=-101139.388) r2: (test=0.800) total time=   0.0s\n",
      "[CV 2/5] END boost__gamma=0.1, boost__learning_rate=1, boost__max_depth=4, boost__min_child_weight=17, boost__reg_lambda=0.01; neg_root_mean_squared_error: (test=-126001.072) r2: (test=0.850) total time=   0.1s\n",
      "[CV 3/5] END boost__gamma=0.1, boost__learning_rate=1, boost__max_depth=4, boost__min_child_weight=17, boost__reg_lambda=0.01; neg_root_mean_squared_error: (test=-106723.880) r2: (test=0.866) total time=   0.1s\n",
      "[CV 4/5] END boost__gamma=0.1, boost__learning_rate=1, boost__max_depth=4, boost__min_child_weight=17, boost__reg_lambda=0.01; neg_root_mean_squared_error: (test=-137816.634) r2: (test=0.762) total time=   0.0s\n",
      "[CV 5/5] END boost__gamma=0.1, boost__learning_rate=1, boost__max_depth=4, boost__min_child_weight=17, boost__reg_lambda=0.01; neg_root_mean_squared_error: (test=-128288.720) r2: (test=0.795) total time=   0.0s\n"
     ]
    },
    {
     "name": "stdout",
     "output_type": "stream",
     "text": [
      "[CV 1/5] END boost__gamma=0.05, boost__learning_rate=0.3, boost__max_depth=14, boost__min_child_weight=18, boost__reg_lambda=1; neg_root_mean_squared_error: (test=-88649.665) r2: (test=0.847) total time=   0.2s\n",
      "[CV 2/5] END boost__gamma=0.05, boost__learning_rate=0.3, boost__max_depth=14, boost__min_child_weight=18, boost__reg_lambda=1; neg_root_mean_squared_error: (test=-107665.367) r2: (test=0.891) total time=   0.5s\n",
      "[CV 3/5] END boost__gamma=0.05, boost__learning_rate=0.3, boost__max_depth=14, boost__min_child_weight=18, boost__reg_lambda=1; neg_root_mean_squared_error: (test=-91861.830) r2: (test=0.901) total time=   0.2s\n",
      "[CV 4/5] END boost__gamma=0.05, boost__learning_rate=0.3, boost__max_depth=14, boost__min_child_weight=18, boost__reg_lambda=1; neg_root_mean_squared_error: (test=-95785.665) r2: (test=0.885) total time=   0.2s\n",
      "[CV 5/5] END boost__gamma=0.05, boost__learning_rate=0.3, boost__max_depth=14, boost__min_child_weight=18, boost__reg_lambda=1; neg_root_mean_squared_error: (test=-105478.500) r2: (test=0.861) total time=   0.1s\n",
      "[CV 1/5] END boost__gamma=0.5, boost__learning_rate=1, boost__max_depth=4, boost__min_child_weight=4, boost__reg_lambda=10; neg_root_mean_squared_error: (test=-121484.653) r2: (test=0.712) total time=   0.1s\n",
      "[CV 2/5] END boost__gamma=0.5, boost__learning_rate=1, boost__max_depth=4, boost__min_child_weight=4, boost__reg_lambda=10; neg_root_mean_squared_error: (test=-121525.333) r2: (test=0.861) total time=   0.3s\n",
      "[CV 3/5] END boost__gamma=0.5, boost__learning_rate=1, boost__max_depth=4, boost__min_child_weight=4, boost__reg_lambda=10; neg_root_mean_squared_error: (test=-106331.153) r2: (test=0.867) total time=   0.0s\n",
      "[CV 4/5] END boost__gamma=0.5, boost__learning_rate=1, boost__max_depth=4, boost__min_child_weight=4, boost__reg_lambda=10; neg_root_mean_squared_error: (test=-119186.312) r2: (test=0.822) total time=   0.0s\n",
      "[CV 5/5] END boost__gamma=0.5, boost__learning_rate=1, boost__max_depth=4, boost__min_child_weight=4, boost__reg_lambda=10; neg_root_mean_squared_error: (test=-99582.360) r2: (test=0.876) total time=   0.1s\n",
      "[CV 1/5] END boost__gamma=0.01, boost__learning_rate=0.3, boost__max_depth=11, boost__min_child_weight=19, boost__reg_lambda=5; neg_root_mean_squared_error: (test=-97420.558) r2: (test=0.815) total time=   0.1s\n",
      "[CV 2/5] END boost__gamma=0.01, boost__learning_rate=0.3, boost__max_depth=11, boost__min_child_weight=19, boost__reg_lambda=5; neg_root_mean_squared_error: (test=-107904.121) r2: (test=0.890) total time=   0.1s\n",
      "[CV 3/5] END boost__gamma=0.01, boost__learning_rate=0.3, boost__max_depth=11, boost__min_child_weight=19, boost__reg_lambda=5; neg_root_mean_squared_error: (test=-89781.250) r2: (test=0.905) total time=   0.1s\n",
      "[CV 4/5] END boost__gamma=0.01, boost__learning_rate=0.3, boost__max_depth=11, boost__min_child_weight=19, boost__reg_lambda=5; neg_root_mean_squared_error: (test=-92521.303) r2: (test=0.893) total time=   0.2s\n",
      "[CV 5/5] END boost__gamma=0.01, boost__learning_rate=0.3, boost__max_depth=11, boost__min_child_weight=19, boost__reg_lambda=5; neg_root_mean_squared_error: (test=-113041.219) r2: (test=0.840) total time=   0.1s\n",
      "[CV 1/5] END boost__gamma=0.1, boost__learning_rate=0.001, boost__max_depth=3, boost__min_child_weight=6, boost__reg_lambda=10; neg_root_mean_squared_error: (test=-709870.693) r2: (test=-8.830) total time=   0.0s\n",
      "[CV 2/5] END boost__gamma=0.1, boost__learning_rate=0.001, boost__max_depth=3, boost__min_child_weight=6, boost__reg_lambda=10; neg_root_mean_squared_error: (test=-759936.921) r2: (test=-4.444) total time=   0.0s\n",
      "[CV 3/5] END boost__gamma=0.1, boost__learning_rate=0.001, boost__max_depth=3, boost__min_child_weight=6, boost__reg_lambda=10; neg_root_mean_squared_error: (test=-699580.001) r2: (test=-4.766) total time=   0.0s\n",
      "[CV 4/5] END boost__gamma=0.1, boost__learning_rate=0.001, boost__max_depth=3, boost__min_child_weight=6, boost__reg_lambda=10; neg_root_mean_squared_error: (test=-693160.949) r2: (test=-5.011) total time=   0.1s\n",
      "[CV 5/5] END boost__gamma=0.1, boost__learning_rate=0.001, boost__max_depth=3, boost__min_child_weight=6, boost__reg_lambda=10; neg_root_mean_squared_error: (test=-733982.093) r2: (test=-5.726) total time=   0.1s\n"
     ]
    },
    {
     "data": {
      "text/html": [
       "<style>#sk-container-id-37 {color: black;}#sk-container-id-37 pre{padding: 0;}#sk-container-id-37 div.sk-toggleable {background-color: white;}#sk-container-id-37 label.sk-toggleable__label {cursor: pointer;display: block;width: 100%;margin-bottom: 0;padding: 0.3em;box-sizing: border-box;text-align: center;}#sk-container-id-37 label.sk-toggleable__label-arrow:before {content: \"▸\";float: left;margin-right: 0.25em;color: #696969;}#sk-container-id-37 label.sk-toggleable__label-arrow:hover:before {color: black;}#sk-container-id-37 div.sk-estimator:hover label.sk-toggleable__label-arrow:before {color: black;}#sk-container-id-37 div.sk-toggleable__content {max-height: 0;max-width: 0;overflow: hidden;text-align: left;background-color: #f0f8ff;}#sk-container-id-37 div.sk-toggleable__content pre {margin: 0.2em;color: black;border-radius: 0.25em;background-color: #f0f8ff;}#sk-container-id-37 input.sk-toggleable__control:checked~div.sk-toggleable__content {max-height: 200px;max-width: 100%;overflow: auto;}#sk-container-id-37 input.sk-toggleable__control:checked~label.sk-toggleable__label-arrow:before {content: \"▾\";}#sk-container-id-37 div.sk-estimator input.sk-toggleable__control:checked~label.sk-toggleable__label {background-color: #d4ebff;}#sk-container-id-37 div.sk-label input.sk-toggleable__control:checked~label.sk-toggleable__label {background-color: #d4ebff;}#sk-container-id-37 input.sk-hidden--visually {border: 0;clip: rect(1px 1px 1px 1px);clip: rect(1px, 1px, 1px, 1px);height: 1px;margin: -1px;overflow: hidden;padding: 0;position: absolute;width: 1px;}#sk-container-id-37 div.sk-estimator {font-family: monospace;background-color: #f0f8ff;border: 1px dotted black;border-radius: 0.25em;box-sizing: border-box;margin-bottom: 0.5em;}#sk-container-id-37 div.sk-estimator:hover {background-color: #d4ebff;}#sk-container-id-37 div.sk-parallel-item::after {content: \"\";width: 100%;border-bottom: 1px solid gray;flex-grow: 1;}#sk-container-id-37 div.sk-label:hover label.sk-toggleable__label {background-color: #d4ebff;}#sk-container-id-37 div.sk-serial::before {content: \"\";position: absolute;border-left: 1px solid gray;box-sizing: border-box;top: 0;bottom: 0;left: 50%;z-index: 0;}#sk-container-id-37 div.sk-serial {display: flex;flex-direction: column;align-items: center;background-color: white;padding-right: 0.2em;padding-left: 0.2em;position: relative;}#sk-container-id-37 div.sk-item {position: relative;z-index: 1;}#sk-container-id-37 div.sk-parallel {display: flex;align-items: stretch;justify-content: center;background-color: white;position: relative;}#sk-container-id-37 div.sk-item::before, #sk-container-id-37 div.sk-parallel-item::before {content: \"\";position: absolute;border-left: 1px solid gray;box-sizing: border-box;top: 0;bottom: 0;left: 50%;z-index: -1;}#sk-container-id-37 div.sk-parallel-item {display: flex;flex-direction: column;z-index: 1;position: relative;background-color: white;}#sk-container-id-37 div.sk-parallel-item:first-child::after {align-self: flex-end;width: 50%;}#sk-container-id-37 div.sk-parallel-item:last-child::after {align-self: flex-start;width: 50%;}#sk-container-id-37 div.sk-parallel-item:only-child::after {width: 0;}#sk-container-id-37 div.sk-dashed-wrapped {border: 1px dashed gray;margin: 0 0.4em 0.5em 0.4em;box-sizing: border-box;padding-bottom: 0.4em;background-color: white;}#sk-container-id-37 div.sk-label label {font-family: monospace;font-weight: bold;display: inline-block;line-height: 1.2em;}#sk-container-id-37 div.sk-label-container {text-align: center;}#sk-container-id-37 div.sk-container {/* jupyter's `normalize.less` sets `[hidden] { display: none; }` but bootstrap.min.css set `[hidden] { display: none !important; }` so we also need the `!important` here to be able to override the default hidden behavior on the sphinx rendered scikit-learn.org. See: https://github.com/scikit-learn/scikit-learn/issues/21755 */display: inline-block !important;position: relative;}#sk-container-id-37 div.sk-text-repr-fallback {display: none;}</style><div id=\"sk-container-id-37\" class=\"sk-top-container\"><div class=\"sk-text-repr-fallback\"><pre>RandomizedSearchCV(estimator=Pipeline(steps=[(&#x27;scaler&#x27;, StandardScaler()),\n",
       "                                             (&#x27;boost&#x27;,\n",
       "                                              XGBRegressor(base_score=None,\n",
       "                                                           booster=None,\n",
       "                                                           callbacks=None,\n",
       "                                                           colsample_bylevel=None,\n",
       "                                                           colsample_bynode=None,\n",
       "                                                           colsample_bytree=None,\n",
       "                                                           early_stopping_rounds=None,\n",
       "                                                           enable_categorical=False,\n",
       "                                                           eval_metric=None,\n",
       "                                                           feature_types=None,\n",
       "                                                           gamma=None,\n",
       "                                                           gpu_id=None,\n",
       "                                                           grow_policy=None,\n",
       "                                                           importance_type=...\n",
       "                                                           predictor=None,\n",
       "                                                           random_state=None, ...))]),\n",
       "                   n_iter=100,\n",
       "                   param_distributions={&#x27;boost__gamma&#x27;: [0, 0.01, 0.05, 0.1,\n",
       "                                                         0.5, 1],\n",
       "                                        &#x27;boost__learning_rate&#x27;: [0.001, 0.005,\n",
       "                                                                 0.01, 0.05,\n",
       "                                                                 0.1, 0.3, 0.5,\n",
       "                                                                 1],\n",
       "                                        &#x27;boost__max_depth&#x27;: range(1, 21),\n",
       "                                        &#x27;boost__min_child_weight&#x27;: range(1, 21),\n",
       "                                        &#x27;boost__reg_lambda&#x27;: [0, 0.01, 0.05,\n",
       "                                                              0.1, 0.5, 1, 5,\n",
       "                                                              10]},\n",
       "                   refit=&#x27;r2&#x27;, scoring=[&#x27;neg_root_mean_squared_error&#x27;, &#x27;r2&#x27;],\n",
       "                   verbose=4)</pre><b>In a Jupyter environment, please rerun this cell to show the HTML representation or trust the notebook. <br />On GitHub, the HTML representation is unable to render, please try loading this page with nbviewer.org.</b></div><div class=\"sk-container\" hidden><div class=\"sk-item sk-dashed-wrapped\"><div class=\"sk-label-container\"><div class=\"sk-label sk-toggleable\"><input class=\"sk-toggleable__control sk-hidden--visually\" id=\"sk-estimator-id-139\" type=\"checkbox\" ><label for=\"sk-estimator-id-139\" class=\"sk-toggleable__label sk-toggleable__label-arrow\">RandomizedSearchCV</label><div class=\"sk-toggleable__content\"><pre>RandomizedSearchCV(estimator=Pipeline(steps=[(&#x27;scaler&#x27;, StandardScaler()),\n",
       "                                             (&#x27;boost&#x27;,\n",
       "                                              XGBRegressor(base_score=None,\n",
       "                                                           booster=None,\n",
       "                                                           callbacks=None,\n",
       "                                                           colsample_bylevel=None,\n",
       "                                                           colsample_bynode=None,\n",
       "                                                           colsample_bytree=None,\n",
       "                                                           early_stopping_rounds=None,\n",
       "                                                           enable_categorical=False,\n",
       "                                                           eval_metric=None,\n",
       "                                                           feature_types=None,\n",
       "                                                           gamma=None,\n",
       "                                                           gpu_id=None,\n",
       "                                                           grow_policy=None,\n",
       "                                                           importance_type=...\n",
       "                                                           predictor=None,\n",
       "                                                           random_state=None, ...))]),\n",
       "                   n_iter=100,\n",
       "                   param_distributions={&#x27;boost__gamma&#x27;: [0, 0.01, 0.05, 0.1,\n",
       "                                                         0.5, 1],\n",
       "                                        &#x27;boost__learning_rate&#x27;: [0.001, 0.005,\n",
       "                                                                 0.01, 0.05,\n",
       "                                                                 0.1, 0.3, 0.5,\n",
       "                                                                 1],\n",
       "                                        &#x27;boost__max_depth&#x27;: range(1, 21),\n",
       "                                        &#x27;boost__min_child_weight&#x27;: range(1, 21),\n",
       "                                        &#x27;boost__reg_lambda&#x27;: [0, 0.01, 0.05,\n",
       "                                                              0.1, 0.5, 1, 5,\n",
       "                                                              10]},\n",
       "                   refit=&#x27;r2&#x27;, scoring=[&#x27;neg_root_mean_squared_error&#x27;, &#x27;r2&#x27;],\n",
       "                   verbose=4)</pre></div></div></div><div class=\"sk-parallel\"><div class=\"sk-parallel-item\"><div class=\"sk-item\"><div class=\"sk-label-container\"><div class=\"sk-label sk-toggleable\"><input class=\"sk-toggleable__control sk-hidden--visually\" id=\"sk-estimator-id-140\" type=\"checkbox\" ><label for=\"sk-estimator-id-140\" class=\"sk-toggleable__label sk-toggleable__label-arrow\">estimator: Pipeline</label><div class=\"sk-toggleable__content\"><pre>Pipeline(steps=[(&#x27;scaler&#x27;, StandardScaler()),\n",
       "                (&#x27;boost&#x27;,\n",
       "                 XGBRegressor(base_score=None, booster=None, callbacks=None,\n",
       "                              colsample_bylevel=None, colsample_bynode=None,\n",
       "                              colsample_bytree=None, early_stopping_rounds=None,\n",
       "                              enable_categorical=False, eval_metric=None,\n",
       "                              feature_types=None, gamma=None, gpu_id=None,\n",
       "                              grow_policy=None, importance_type=None,\n",
       "                              interaction_constraints=None, learning_rate=None,\n",
       "                              max_bin=None, max_cat_threshold=None,\n",
       "                              max_cat_to_onehot=None, max_delta_step=None,\n",
       "                              max_depth=None, max_leaves=None,\n",
       "                              min_child_weight=None, missing=nan,\n",
       "                              monotone_constraints=None, n_estimators=100,\n",
       "                              n_jobs=None, num_parallel_tree=None,\n",
       "                              predictor=None, random_state=None, ...))])</pre></div></div></div><div class=\"sk-serial\"><div class=\"sk-item\"><div class=\"sk-serial\"><div class=\"sk-item\"><div class=\"sk-estimator sk-toggleable\"><input class=\"sk-toggleable__control sk-hidden--visually\" id=\"sk-estimator-id-141\" type=\"checkbox\" ><label for=\"sk-estimator-id-141\" class=\"sk-toggleable__label sk-toggleable__label-arrow\">StandardScaler</label><div class=\"sk-toggleable__content\"><pre>StandardScaler()</pre></div></div></div><div class=\"sk-item\"><div class=\"sk-estimator sk-toggleable\"><input class=\"sk-toggleable__control sk-hidden--visually\" id=\"sk-estimator-id-142\" type=\"checkbox\" ><label for=\"sk-estimator-id-142\" class=\"sk-toggleable__label sk-toggleable__label-arrow\">XGBRegressor</label><div class=\"sk-toggleable__content\"><pre>XGBRegressor(base_score=None, booster=None, callbacks=None,\n",
       "             colsample_bylevel=None, colsample_bynode=None,\n",
       "             colsample_bytree=None, early_stopping_rounds=None,\n",
       "             enable_categorical=False, eval_metric=None, feature_types=None,\n",
       "             gamma=None, gpu_id=None, grow_policy=None, importance_type=None,\n",
       "             interaction_constraints=None, learning_rate=None, max_bin=None,\n",
       "             max_cat_threshold=None, max_cat_to_onehot=None,\n",
       "             max_delta_step=None, max_depth=None, max_leaves=None,\n",
       "             min_child_weight=None, missing=nan, monotone_constraints=None,\n",
       "             n_estimators=100, n_jobs=None, num_parallel_tree=None,\n",
       "             predictor=None, random_state=None, ...)</pre></div></div></div></div></div></div></div></div></div></div></div></div>"
      ],
      "text/plain": [
       "RandomizedSearchCV(estimator=Pipeline(steps=[('scaler', StandardScaler()),\n",
       "                                             ('boost',\n",
       "                                              XGBRegressor(base_score=None,\n",
       "                                                           booster=None,\n",
       "                                                           callbacks=None,\n",
       "                                                           colsample_bylevel=None,\n",
       "                                                           colsample_bynode=None,\n",
       "                                                           colsample_bytree=None,\n",
       "                                                           early_stopping_rounds=None,\n",
       "                                                           enable_categorical=False,\n",
       "                                                           eval_metric=None,\n",
       "                                                           feature_types=None,\n",
       "                                                           gamma=None,\n",
       "                                                           gpu_id=None,\n",
       "                                                           grow_policy=None,\n",
       "                                                           importance_type=...\n",
       "                                                           predictor=None,\n",
       "                                                           random_state=None, ...))]),\n",
       "                   n_iter=100,\n",
       "                   param_distributions={'boost__gamma': [0, 0.01, 0.05, 0.1,\n",
       "                                                         0.5, 1],\n",
       "                                        'boost__learning_rate': [0.001, 0.005,\n",
       "                                                                 0.01, 0.05,\n",
       "                                                                 0.1, 0.3, 0.5,\n",
       "                                                                 1],\n",
       "                                        'boost__max_depth': range(1, 21),\n",
       "                                        'boost__min_child_weight': range(1, 21),\n",
       "                                        'boost__reg_lambda': [0, 0.01, 0.05,\n",
       "                                                              0.1, 0.5, 1, 5,\n",
       "                                                              10]},\n",
       "                   refit='r2', scoring=['neg_root_mean_squared_error', 'r2'],\n",
       "                   verbose=4)"
      ]
     },
     "execution_count": 920,
     "metadata": {},
     "output_type": "execute_result"
    }
   ],
   "source": [
    "rs.fit(x_training, y_training)"
   ]
  },
  {
   "cell_type": "code",
   "execution_count": 921,
   "id": "4f7089e0",
   "metadata": {},
   "outputs": [
    {
     "data": {
      "text/plain": [
       "{'boost__reg_lambda': 0,\n",
       " 'boost__min_child_weight': 18,\n",
       " 'boost__max_depth': 5,\n",
       " 'boost__learning_rate': 0.1,\n",
       " 'boost__gamma': 0}"
      ]
     },
     "execution_count": 921,
     "metadata": {},
     "output_type": "execute_result"
    }
   ],
   "source": [
    "rs.best_params_"
   ]
  },
  {
   "cell_type": "code",
   "execution_count": 922,
   "id": "173c733e",
   "metadata": {},
   "outputs": [],
   "source": [
    "boost_tuned = XGBRegressor(\n",
    "    reg_lambda=0,\n",
    "    min_child_weight=18,\n",
    "    max_depth=5,\n",
    "    learning_rate=0.1,\n",
    "    gamma=0\n",
    ")\n",
    "model_boost_tuned = boost_tuned.fit(x_training, y_training)"
   ]
  },
  {
   "cell_type": "code",
   "execution_count": 923,
   "id": "498faa56",
   "metadata": {},
   "outputs": [
    {
     "name": "stdout",
     "output_type": "stream",
     "text": [
      "rmse training: 58212.84172976089,\n",
      "r2 training: 0.9581276476494361\n",
      "rmse test: 117430.95909937036,\n",
      "r2 test: 0.8519723207453831\n",
      "rmse cv: 123052.20023242457,\n",
      "r2 cv: 0.8348515918474848\n"
     ]
    }
   ],
   "source": [
    "print(f\"rmse training: {np.sqrt(mean_squared_error(y_training, model_boost_tuned.predict(x_training)))},\\\n",
    "\\nr2 training: {r2_score(y_training, model_boost_tuned.predict(x_training))}\")\n",
    "print(f\"rmse test: {np.sqrt(mean_squared_error(y_test, model_boost_tuned.predict(x_test)))},\\\n",
    "\\nr2 test: {r2_score(y_test, model_boost_tuned.predict(x_test))}\")\n",
    "print(f\"rmse cv: {np.sqrt(mean_squared_error(y_cv, model_boost_tuned.predict(x_cv)))},\\\n",
    "\\nr2 cv: {r2_score(y_cv, model_boost_tuned.predict(x_cv))}\")"
   ]
  },
  {
   "cell_type": "markdown",
   "id": "f0a1126f",
   "metadata": {},
   "source": [
    "Compare the four different models."
   ]
  },
  {
   "cell_type": "code",
   "execution_count": 924,
   "id": "ab3e9f29",
   "metadata": {},
   "outputs": [
    {
     "name": "stdout",
     "output_type": "stream",
     "text": [
      "Test\n",
      "Linear: 0.7682085117433861\n",
      "Regularized: 0.867509743349835\n",
      "XGBoost: 0.877703659722425\n",
      "XGBoost Tuned: 0.8519723207453831\n"
     ]
    }
   ],
   "source": [
    "print(\"Test\")\n",
    "print(f\"Linear: {r2_score(y_test, model_linear.predict(x_test))}\")\n",
    "print(f\"Regularized: {r2_score(y_test, model_ridge.predict(x_test))}\")\n",
    "print(f\"XGBoost: {r2_score(y_test, model_boost.predict(x_test))}\")\n",
    "print(f\"XGBoost Tuned: {r2_score(y_test, model_boost_tuned.predict(x_test))}\")"
   ]
  },
  {
   "cell_type": "code",
   "execution_count": 925,
   "id": "ef984191",
   "metadata": {},
   "outputs": [
    {
     "name": "stdout",
     "output_type": "stream",
     "text": [
      "CV\n",
      "Linear: 0.7638473293796797\n",
      "Regularized: 0.8808866967599196\n",
      "XGBoost: 0.8288577455842989\n",
      "XGBoost Tuned: 0.8348515918474848\n"
     ]
    }
   ],
   "source": [
    "print(\"CV\")\n",
    "print(f\"Linear: {r2_score(y_cv, model_linear.predict(x_cv))}\")\n",
    "print(f\"Regularized: {r2_score(y_cv, model_ridge.predict(x_cv))}\")\n",
    "print(f\"XGBoost: {r2_score(y_cv, model_boost.predict(x_cv))}\")\n",
    "print(f\"XGBoost Tuned: {r2_score(y_cv, model_boost_tuned.predict(x_cv))}\")"
   ]
  },
  {
   "cell_type": "code",
   "execution_count": 926,
   "id": "0e54ed70",
   "metadata": {},
   "outputs": [
    {
     "name": "stdout",
     "output_type": "stream",
     "text": [
      "Training\n",
      "Linear: 0.7786326594948263\n",
      "Regularized: 0.9156700384599326\n",
      "XGBoost: 0.9993455890618401\n",
      "XGBoost Tuned: 0.9581276476494361\n"
     ]
    }
   ],
   "source": [
    "print(\"Training\")\n",
    "print(f\"Linear: {r2_score(y_training, model_linear.predict(x_training))}\")\n",
    "print(f\"Regularized: {r2_score(y_training, model_ridge.predict(x_training))}\")\n",
    "print(f\"XGBoost: {r2_score(y_training, model_boost.predict(x_training))}\")\n",
    "print(f\"XGBoost Tuned: {r2_score(y_training, model_boost_tuned.predict(x_training))}\")"
   ]
  },
  {
   "cell_type": "markdown",
   "id": "b075b5eb",
   "metadata": {},
   "source": [
    "Will select the regularized polynomial regression model due to very similar r2 scores to XGBoost models in the test group but much less overfitting."
   ]
  }
 ],
 "metadata": {
  "kernelspec": {
   "display_name": "Python 3 (ipykernel)",
   "language": "python",
   "name": "python3"
  },
  "language_info": {
   "codemirror_mode": {
    "name": "ipython",
    "version": 3
   },
   "file_extension": ".py",
   "mimetype": "text/x-python",
   "name": "python",
   "nbconvert_exporter": "python",
   "pygments_lexer": "ipython3",
   "version": "3.10.9"
  }
 },
 "nbformat": 4,
 "nbformat_minor": 5
}
